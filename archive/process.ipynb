{
 "cells": [
  {
   "cell_type": "code",
   "execution_count": 1,
   "metadata": {},
   "outputs": [],
   "source": [
    "# Process Phase - Logging Setup\n",
    "import logging\n",
    "import sys\n",
    "\n",
    "LOG_FILE = \"process_phase.log\"\n",
    "\n",
    "logging.basicConfig(\n",
    "    level=logging.INFO,\n",
    "    filename=LOG_FILE,\n",
    "    filemode=\"w\",  # Overwrite previous logs on each run\n",
    "    format=\"%(asctime)s - %(levelname)s - %(message)s\"\n",
    ")\n",
    "logger = logging.getLogger()\n",
    "\n",
    "# Redirect print statements to the logger\n",
    "class LoggerWriter:\n",
    "    def __init__(self, level):\n",
    "        self.level = level\n",
    "    def write(self, message):\n",
    "        if message.strip():\n",
    "            self.level(message.strip())\n",
    "    def flush(self):\n",
    "        pass\n",
    "\n",
    "sys.stdout = LoggerWriter(logger.info)\n",
    "sys.stderr = LoggerWriter(logger.error)\n",
    "\n",
    "print(\"=== Starting Process Phase Notebook: Logging Setup Complete ===\")\n"
   ]
  },
  {
   "cell_type": "code",
   "execution_count": 2,
   "metadata": {},
   "outputs": [],
   "source": [
    "# Process Phase - Cell 1: Load Prepared Datasets\n",
    "\n",
    "import os\n",
    "import pandas as pd\n",
    "\n",
    "# Define the path where the prepared datasets are stored\n",
    "PREPARED_PATH = \"./data/prepared/\"\n",
    "\n",
    "# Dictionary mapping dataset names to their prepared file names\n",
    "files = {\n",
    "    \"pbj_nurse\": \"pbj_nurse_prepared.parquet\",\n",
    "    \"pbj_non_nurse\": \"pbj_non_nurse_prepared.parquet\",\n",
    "    \"qrp_provider\": \"qrp_provider_prepared.parquet\",\n",
    "    \"nh_survey\": \"nh_survey_prepared.parquet\",\n",
    "    \"nh_quality_mds\": \"nh_quality_mds_prepared.parquet\",\n",
    "    \"nh_ownership\": \"nh_ownership_prepared.parquet\",\n",
    "    \"nh_citations\": \"nh_citations_prepared.parquet\"\n",
    "}\n",
    "\n",
    "loaded_datasets = {}\n",
    "for key, filename in files.items():\n",
    "    file_path = os.path.join(PREPARED_PATH, filename)\n",
    "    try:\n",
    "        loaded_datasets[key] = pd.read_parquet(file_path)\n",
    "        print(f\"Loaded {key} with shape {loaded_datasets[key].shape}\")\n",
    "    except Exception as e:\n",
    "        print(f\"Error loading {key}: {e}\")\n",
    "\n",
    "# Optionally, check the columns of one dataset to verify\n",
    "print(\"Columns in pbj_nurse:\", loaded_datasets['pbj_nurse'].columns.tolist())\n"
   ]
  },
  {
   "cell_type": "code",
   "execution_count": 3,
   "metadata": {},
   "outputs": [],
   "source": [
    "# Process Phase - Cell 2: Derive RN Temporary Staffing Ratio for PBJ Nurse\n",
    "\n",
    "# We define the RN temporary staffing ratio as:\n",
    "# rn_temp_ratio = hrs_rn_ctr / (hrs_rn_emp + hrs_rn_ctr + 1e-6)\n",
    "# This ratio is computed on a row-by-row basis.\n",
    "\n",
    "df_nurse = loaded_datasets['pbj_nurse'].copy()\n",
    "\n",
    "required_columns = ['hrs_rn_ctr', 'hrs_rn_emp']\n",
    "if all(col in df_nurse.columns for col in required_columns):\n",
    "    df_nurse['rn_temp_ratio'] = df_nurse['hrs_rn_ctr'] / (df_nurse['hrs_rn_emp'] + df_nurse['hrs_rn_ctr'] + 1e-6)\n",
    "    print(\"Calculated 'rn_temp_ratio' for PBJ Nurse dataset.\")\n",
    "else:\n",
    "    print(\"Required columns for RN ratio calculation are missing.\")\n",
    "\n",
    "# Display the first 5 rows of the relevant columns\n",
    "print(df_nurse[['hrs_rn_emp', 'hrs_rn_ctr', 'rn_temp_ratio']].head())\n",
    "\n",
    "# Update our dataset in the dictionary\n",
    "loaded_datasets['pbj_nurse'] = df_nurse\n"
   ]
  }
 ],
 "metadata": {
  "kernelspec": {
   "display_name": "clipboard_health_env",
   "language": "python",
   "name": "python3"
  },
  "language_info": {
   "codemirror_mode": {
    "name": "ipython",
    "version": 3
   },
   "file_extension": ".py",
   "mimetype": "text/x-python",
   "name": "python",
   "nbconvert_exporter": "python",
   "pygments_lexer": "ipython3",
   "version": "3.13.1"
  }
 },
 "nbformat": 4,
 "nbformat_minor": 2
}
