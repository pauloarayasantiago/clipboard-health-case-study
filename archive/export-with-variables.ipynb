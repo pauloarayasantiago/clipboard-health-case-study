{
 "cells": [
  {
   "cell_type": "code",
   "execution_count": 1,
   "metadata": {},
   "outputs": [
    {
     "name": "stdout",
     "output_type": "stream",
     "text": [
      "Loaded pbj_nurse with shape (1325324, 33)\n",
      "Loaded pbj_non_nurse with shape (1325324, 82)\n",
      "Loaded qrp_provider with shape (710016, 16)\n",
      "Loaded nh_survey with shape (44189, 41)\n",
      "Loaded nh_quality_mds with shape (251464, 23)\n",
      "Loaded nh_ownership with shape (144651, 13)\n",
      "Loaded nh_citations with shape (406789, 23)\n",
      "=== Data Loading Complete ===\n"
     ]
    }
   ],
   "source": [
    "# Cell 1: Setup Logging and Load Prepared Datasets\n",
    "\n",
    "import os\n",
    "import pandas as pd\n",
    "import matplotlib.pyplot as plt\n",
    "import seaborn as sns\n",
    "from sklearn.cluster import KMeans\n",
    "\n",
    "\n",
    "PREPARED_PATH = \"./data/prepared/\"\n",
    "files = {\n",
    "    \"pbj_nurse\": \"pbj_nurse_prepared.parquet\",\n",
    "    \"pbj_non_nurse\": \"pbj_non_nurse_prepared.parquet\",\n",
    "    \"qrp_provider\": \"qrp_provider_prepared.parquet\",\n",
    "    \"nh_survey\": \"nh_survey_prepared.parquet\",\n",
    "    \"nh_quality_mds\": \"nh_quality_mds_prepared.parquet\",\n",
    "    \"nh_ownership\": \"nh_ownership_prepared.parquet\",\n",
    "    \"nh_citations\": \"nh_citations_prepared.parquet\"\n",
    "}\n",
    "\n",
    "loaded_datasets = {}\n",
    "for key, filename in files.items():\n",
    "    file_path = os.path.join(PREPARED_PATH, filename)\n",
    "    try:\n",
    "        loaded_datasets[key] = pd.read_parquet(file_path)\n",
    "        print(f\"Loaded {key} with shape {loaded_datasets[key].shape}\")\n",
    "    except Exception as e:\n",
    "        print(f\"Error loading {key}: {e}\")\n",
    "\n",
    "pbj_nurse = loaded_datasets['pbj_nurse']\n",
    "pbj_non_nurse = loaded_datasets['pbj_non_nurse']\n",
    "nh_survey = loaded_datasets['nh_survey']\n",
    "qrp_provider = loaded_datasets['qrp_provider']\n",
    "nh_ownership = loaded_datasets['nh_ownership']\n",
    "\n",
    "print(\"=== Data Loading Complete ===\")"
   ]
  },
  {
   "cell_type": "code",
   "execution_count": 2,
   "metadata": {},
   "outputs": [
    {
     "name": "stdout",
     "output_type": "stream",
     "text": [
      "=== Data Loading Complete ===\n"
     ]
    }
   ],
   "source": [
    "pbj_nurse = loaded_datasets['pbj_nurse']\n",
    "pbj_non_nurse = loaded_datasets['pbj_non_nurse']\n",
    "nh_survey = loaded_datasets['nh_survey']\n",
    "qrp_provider = loaded_datasets['qrp_provider']\n",
    "nh_ownership = loaded_datasets['nh_ownership']\n",
    "\n",
    "print(\"=== Data Loading Complete ===\")"
   ]
  },
  {
   "cell_type": "code",
   "execution_count": 3,
   "metadata": {},
   "outputs": [
    {
     "name": "stdout",
     "output_type": "stream",
     "text": [
      "Exported pbj_nurse to ./data/final-csv/pbj_nurse.csv\n",
      "Exported pbj_non_nurse to ./data/final-csv/pbj_non_nurse.csv\n",
      "Exported qrp_provider to ./data/final-csv/qrp_provider.csv\n",
      "Exported nh_survey to ./data/final-csv/nh_survey.csv\n",
      "Exported nh_quality_mds to ./data/final-csv/nh_quality_mds.csv\n",
      "Exported nh_ownership to ./data/final-csv/nh_ownership.csv\n",
      "Exported nh_citations to ./data/final-csv/nh_citations.csv\n",
      "=== Data Export Complete ===\n"
     ]
    }
   ],
   "source": [
    "EXPORT_PATH = \"./data/final-csv/\"\n",
    "\n",
    "if not os.path.exists(EXPORT_PATH):\n",
    "    os.makedirs(EXPORT_PATH)\n",
    "\n",
    "for key, df in loaded_datasets.items():\n",
    "    export_file_path = os.path.join(EXPORT_PATH, f\"{key}.csv\")\n",
    "    df.to_csv(export_file_path, index=False)\n",
    "    print(f\"Exported {key} to {export_file_path}\")\n",
    "\n",
    "print(\"=== Data Export Complete ===\")"
   ]
  }
 ],
 "metadata": {
  "kernelspec": {
   "display_name": "clipboard_health_env",
   "language": "python",
   "name": "python3"
  },
  "language_info": {
   "codemirror_mode": {
    "name": "ipython",
    "version": 3
   },
   "file_extension": ".py",
   "mimetype": "text/x-python",
   "name": "python",
   "nbconvert_exporter": "python",
   "pygments_lexer": "ipython3",
   "version": "3.13.1"
  }
 },
 "nbformat": 4,
 "nbformat_minor": 2
}
