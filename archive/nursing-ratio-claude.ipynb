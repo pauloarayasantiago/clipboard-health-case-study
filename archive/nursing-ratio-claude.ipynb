{
 "cells": [
  {
   "cell_type": "code",
   "execution_count": 4,
   "metadata": {},
   "outputs": [],
   "source": [
    "# Process Phase - Logging Setup\n",
    "import logging\n",
    "import sys\n",
    "\n",
    "LOG_FILE = \"claude_nursing_ratio.log\"\n",
    "\n",
    "logging.basicConfig(\n",
    "    level=logging.INFO,\n",
    "    filename=LOG_FILE,\n",
    "    filemode=\"w\",  # Overwrite previous logs on each run\n",
    "    format=\"%(asctime)s - %(levelname)s - %(message)s\"\n",
    ")\n",
    "logger = logging.getLogger()\n",
    "\n",
    "# Redirect print statements to the logger\n",
    "class LoggerWriter:\n",
    "    def __init__(self, level):\n",
    "        self.level = level\n",
    "    def write(self, message):\n",
    "        if message.strip():\n",
    "            self.level(message.strip())\n",
    "    def flush(self):\n",
    "        pass\n",
    "\n",
    "sys.stdout = LoggerWriter(logger.info)\n",
    "sys.stderr = LoggerWriter(logger.error)\n",
    "\n",
    "print(\"=== Starting Process Phase Notebook: Logging Setup Complete ===\")\n"
   ]
  },
  {
   "cell_type": "code",
   "execution_count": 5,
   "metadata": {},
   "outputs": [],
   "source": [
    "# Process Phase - Cell 1: Load Prepared Datasets\n",
    "\n",
    "import os\n",
    "import pandas as pd\n",
    "\n",
    "# Define the path where the prepared datasets are stored\n",
    "PREPARED_PATH = \"./data/prepared/\"\n",
    "\n",
    "# Dictionary mapping dataset names to their prepared file names\n",
    "files = {\n",
    "    \"pbj_nurse\": \"pbj_nurse_prepared.parquet\",\n",
    "    \"pbj_non_nurse\": \"pbj_non_nurse_prepared.parquet\",\n",
    "    \"qrp_provider\": \"qrp_provider_prepared.parquet\",\n",
    "    \"nh_survey\": \"nh_survey_prepared.parquet\",\n",
    "    \"nh_quality_mds\": \"nh_quality_mds_prepared.parquet\",\n",
    "    \"nh_ownership\": \"nh_ownership_prepared.parquet\",\n",
    "    \"nh_citations\": \"nh_citations_prepared.parquet\"\n",
    "}\n",
    "\n",
    "loaded_datasets = {}\n",
    "for key, filename in files.items():\n",
    "    file_path = os.path.join(PREPARED_PATH, filename)\n",
    "    try:\n",
    "        loaded_datasets[key] = pd.read_parquet(file_path)\n",
    "        print(f\"Loaded {key} with shape {loaded_datasets[key].shape}\")\n",
    "    except Exception as e:\n",
    "        print(f\"Error loading {key}: {e}\")\n",
    "\n",
    "# Optionally, check the columns of one dataset to verify\n",
    "print(\"Columns in pbj_nurse:\", loaded_datasets['pbj_nurse'].columns.tolist())\n"
   ]
  },
  {
   "cell_type": "code",
   "execution_count": 6,
   "metadata": {},
   "outputs": [
    {
     "data": {
      "application/vnd.plotly.v1+json": {
       "config": {
        "plotlyServerURL": "https://plot.ly"
       },
       "data": [
        {
         "line": {
          "color": "blue"
         },
         "name": "Direct Care (Nursing)",
         "type": "scatter",
         "x": [
          "2024-04-01T00:00:00.000000000",
          "2024-04-02T00:00:00.000000000",
          "2024-04-03T00:00:00.000000000",
          "2024-04-04T00:00:00.000000000",
          "2024-04-05T00:00:00.000000000",
          "2024-04-06T00:00:00.000000000",
          "2024-04-07T00:00:00.000000000",
          "2024-04-08T00:00:00.000000000",
          "2024-04-09T00:00:00.000000000",
          "2024-04-10T00:00:00.000000000",
          "2024-04-11T00:00:00.000000000",
          "2024-04-12T00:00:00.000000000",
          "2024-04-13T00:00:00.000000000",
          "2024-04-14T00:00:00.000000000",
          "2024-04-15T00:00:00.000000000",
          "2024-04-16T00:00:00.000000000",
          "2024-04-17T00:00:00.000000000",
          "2024-04-18T00:00:00.000000000",
          "2024-04-19T00:00:00.000000000",
          "2024-04-20T00:00:00.000000000",
          "2024-04-21T00:00:00.000000000",
          "2024-04-22T00:00:00.000000000",
          "2024-04-23T00:00:00.000000000",
          "2024-04-24T00:00:00.000000000",
          "2024-04-25T00:00:00.000000000",
          "2024-04-26T00:00:00.000000000",
          "2024-04-27T00:00:00.000000000",
          "2024-04-28T00:00:00.000000000",
          "2024-04-29T00:00:00.000000000",
          "2024-04-30T00:00:00.000000000",
          "2024-05-01T00:00:00.000000000",
          "2024-05-02T00:00:00.000000000",
          "2024-05-03T00:00:00.000000000",
          "2024-05-04T00:00:00.000000000",
          "2024-05-05T00:00:00.000000000",
          "2024-05-06T00:00:00.000000000",
          "2024-05-07T00:00:00.000000000",
          "2024-05-08T00:00:00.000000000",
          "2024-05-09T00:00:00.000000000",
          "2024-05-10T00:00:00.000000000",
          "2024-05-11T00:00:00.000000000",
          "2024-05-12T00:00:00.000000000",
          "2024-05-13T00:00:00.000000000",
          "2024-05-14T00:00:00.000000000",
          "2024-05-15T00:00:00.000000000",
          "2024-05-16T00:00:00.000000000",
          "2024-05-17T00:00:00.000000000",
          "2024-05-18T00:00:00.000000000",
          "2024-05-19T00:00:00.000000000",
          "2024-05-20T00:00:00.000000000",
          "2024-05-21T00:00:00.000000000",
          "2024-05-22T00:00:00.000000000",
          "2024-05-23T00:00:00.000000000",
          "2024-05-24T00:00:00.000000000",
          "2024-05-25T00:00:00.000000000",
          "2024-05-26T00:00:00.000000000",
          "2024-05-27T00:00:00.000000000",
          "2024-05-28T00:00:00.000000000",
          "2024-05-29T00:00:00.000000000",
          "2024-05-30T00:00:00.000000000",
          "2024-05-31T00:00:00.000000000",
          "2024-06-01T00:00:00.000000000",
          "2024-06-02T00:00:00.000000000",
          "2024-06-03T00:00:00.000000000",
          "2024-06-04T00:00:00.000000000",
          "2024-06-05T00:00:00.000000000",
          "2024-06-06T00:00:00.000000000",
          "2024-06-07T00:00:00.000000000",
          "2024-06-08T00:00:00.000000000",
          "2024-06-09T00:00:00.000000000",
          "2024-06-10T00:00:00.000000000",
          "2024-06-11T00:00:00.000000000",
          "2024-06-12T00:00:00.000000000",
          "2024-06-13T00:00:00.000000000",
          "2024-06-14T00:00:00.000000000",
          "2024-06-15T00:00:00.000000000",
          "2024-06-16T00:00:00.000000000",
          "2024-06-17T00:00:00.000000000",
          "2024-06-18T00:00:00.000000000",
          "2024-06-19T00:00:00.000000000",
          "2024-06-20T00:00:00.000000000",
          "2024-06-21T00:00:00.000000000",
          "2024-06-22T00:00:00.000000000",
          "2024-06-23T00:00:00.000000000",
          "2024-06-24T00:00:00.000000000",
          "2024-06-25T00:00:00.000000000",
          "2024-06-26T00:00:00.000000000",
          "2024-06-27T00:00:00.000000000",
          "2024-06-28T00:00:00.000000000",
          "2024-06-29T00:00:00.000000000",
          "2024-06-30T00:00:00.000000000"
         ],
         "xaxis": "x",
         "y": {
          "bdata": "CevSDkmUH0DE3rag1IQdQGK7Py2zxhxA/3Wk71DWHUB+2b/jMWIgQAaWU1cFwCFAmOp/z1XxIUAY9sw4Fa4fQGudvumoER1AXZAUPpu6HEA6PS3hXRgdQDlpgIATJyBAhrq/fu+9IUDa4kmwt98hQPz9Tq6JLB9AhscppMrDHECRk68g+wIcQA5QUUiqFh1Arrh/jusaIECYTf+l3KMhQLqrlEPwzyFAZMF5sKsmH0C0zq+Qf5QcQFSnR/20FRxARfLmW3TZHEDzppxihykgQKH2wcKDpiFAoRt800O7IUCSrC0dlaoeQDuu4gRA9htAZmsdklULHEDjAGpuQrwcQPeBfXRlCiBAi/1lWmeiIUCleo45BcwhQG82WWbwEx9Aj+iTczINHECWWSv2yYgbQJ1SSM8oVxxA+bQAitMLIEDPkfDMffghQGJd7VR/gSJAsj1Z6JeyHkDysMh7QtUbQIexXqIsMhtAPuKAG4ZSHEDwFRlypgUgQDvsmi2RrCFAFyEzD/ngIUAjD5fqL54eQEDn67uaxxtAI2Oq2kNCG0CkLFZOwkscQNtM08KWJCBAwJxITFp8IkCVxKqCavohQHuCffJg1B5AjJ26i2wzHEAiCcsv0BkbQBbpUMFi1xtA6lWkEhlTH0C5WuD0o3IhQEqyACLFoiFAyXqJAfcIHkB2EGqRe0QbQFrA3NtTlRpAvO/ZgM6LG0AAPMPf3CkfQIvWTJ2hWyFApCle8ZZ4IUB0yfWdlqkdQE72leHS3hpAyoo2gChEGkA5zQGGv0cbQIJ1KZ9s7x5AVNYskiBKIUB79oDU/PEhQOuHMbtu0h1AUgYtTsWiGkC4qk+L/OwZQLbIAk65IxtAlqLPaKfNHkBYZmNrJiUhQH8rld1QHyFAOhMzX2v+HEC33xGbegMaQGzTEeQOgBlAJK9RioWyGkDhsMGKCM8dQIcgYAaIpSBAwZldIKd6IEA=",
          "dtype": "f8"
         },
         "yaxis": "y"
        },
        {
         "line": {
          "color": "green"
         },
         "name": "Support (Non-Nursing)",
         "type": "scatter",
         "x": [
          "2024-04-01T00:00:00.000000000",
          "2024-04-02T00:00:00.000000000",
          "2024-04-03T00:00:00.000000000",
          "2024-04-04T00:00:00.000000000",
          "2024-04-05T00:00:00.000000000",
          "2024-04-06T00:00:00.000000000",
          "2024-04-07T00:00:00.000000000",
          "2024-04-08T00:00:00.000000000",
          "2024-04-09T00:00:00.000000000",
          "2024-04-10T00:00:00.000000000",
          "2024-04-11T00:00:00.000000000",
          "2024-04-12T00:00:00.000000000",
          "2024-04-13T00:00:00.000000000",
          "2024-04-14T00:00:00.000000000",
          "2024-04-15T00:00:00.000000000",
          "2024-04-16T00:00:00.000000000",
          "2024-04-17T00:00:00.000000000",
          "2024-04-18T00:00:00.000000000",
          "2024-04-19T00:00:00.000000000",
          "2024-04-20T00:00:00.000000000",
          "2024-04-21T00:00:00.000000000",
          "2024-04-22T00:00:00.000000000",
          "2024-04-23T00:00:00.000000000",
          "2024-04-24T00:00:00.000000000",
          "2024-04-25T00:00:00.000000000",
          "2024-04-26T00:00:00.000000000",
          "2024-04-27T00:00:00.000000000",
          "2024-04-28T00:00:00.000000000",
          "2024-04-29T00:00:00.000000000",
          "2024-04-30T00:00:00.000000000",
          "2024-05-01T00:00:00.000000000",
          "2024-05-02T00:00:00.000000000",
          "2024-05-03T00:00:00.000000000",
          "2024-05-04T00:00:00.000000000",
          "2024-05-05T00:00:00.000000000",
          "2024-05-06T00:00:00.000000000",
          "2024-05-07T00:00:00.000000000",
          "2024-05-08T00:00:00.000000000",
          "2024-05-09T00:00:00.000000000",
          "2024-05-10T00:00:00.000000000",
          "2024-05-11T00:00:00.000000000",
          "2024-05-12T00:00:00.000000000",
          "2024-05-13T00:00:00.000000000",
          "2024-05-14T00:00:00.000000000",
          "2024-05-15T00:00:00.000000000",
          "2024-05-16T00:00:00.000000000",
          "2024-05-17T00:00:00.000000000",
          "2024-05-18T00:00:00.000000000",
          "2024-05-19T00:00:00.000000000",
          "2024-05-20T00:00:00.000000000",
          "2024-05-21T00:00:00.000000000",
          "2024-05-22T00:00:00.000000000",
          "2024-05-23T00:00:00.000000000",
          "2024-05-24T00:00:00.000000000",
          "2024-05-25T00:00:00.000000000",
          "2024-05-26T00:00:00.000000000",
          "2024-05-27T00:00:00.000000000",
          "2024-05-28T00:00:00.000000000",
          "2024-05-29T00:00:00.000000000",
          "2024-05-30T00:00:00.000000000",
          "2024-05-31T00:00:00.000000000",
          "2024-06-01T00:00:00.000000000",
          "2024-06-02T00:00:00.000000000",
          "2024-06-03T00:00:00.000000000",
          "2024-06-04T00:00:00.000000000",
          "2024-06-05T00:00:00.000000000",
          "2024-06-06T00:00:00.000000000",
          "2024-06-07T00:00:00.000000000",
          "2024-06-08T00:00:00.000000000",
          "2024-06-09T00:00:00.000000000",
          "2024-06-10T00:00:00.000000000",
          "2024-06-11T00:00:00.000000000",
          "2024-06-12T00:00:00.000000000",
          "2024-06-13T00:00:00.000000000",
          "2024-06-14T00:00:00.000000000",
          "2024-06-15T00:00:00.000000000",
          "2024-06-16T00:00:00.000000000",
          "2024-06-17T00:00:00.000000000",
          "2024-06-18T00:00:00.000000000",
          "2024-06-19T00:00:00.000000000",
          "2024-06-20T00:00:00.000000000",
          "2024-06-21T00:00:00.000000000",
          "2024-06-22T00:00:00.000000000",
          "2024-06-23T00:00:00.000000000",
          "2024-06-24T00:00:00.000000000",
          "2024-06-25T00:00:00.000000000",
          "2024-06-26T00:00:00.000000000",
          "2024-06-27T00:00:00.000000000",
          "2024-06-28T00:00:00.000000000",
          "2024-06-29T00:00:00.000000000",
          "2024-06-30T00:00:00.000000000"
         ],
         "xaxis": "x",
         "y": {
          "bdata": "PyQ1tyZwOkAQ974z/gA6QIAj/JNm/zlANKaj1kvuOUCmQQhhyKs5QJqeFHArwTVAiTqokvXzMkCSuCnSW0M5QDT9Wb0S0DlAnaa1NPTkOUDbp2BEeM45QA9OJXqRjTlApnbx4C9FNUCeKt2Z4qIxQOXbupSZEjpAIByjfgPFOUByM/7NZfA5QE2wPIWhuzlAOgjyMpNoOUBkK/P/6yA1QHnenWzE0zFArIsStsvmOUC1XY2zRsQ5QLBCMs+p6TlAqil8BTOpOUDVApqZg2A5QLnnd17U/TRAmdrtj4gVMkDDor2hMwE6QMRnWqGs0DlAzuaHcTWsOUC6BCBXpI85QBd2l9jEDjlABlpEJLRpNEBeOb9ZmTsxQDYIg3EnoDlAdDid069tOUC0vBgKO3s5QCqDtO1hTzlAcuO6ej/lOEAxjeeCiUo0QHpauJfocS1AOdLRdF5aOUDbkutuEUs5QHN1Jc75TjlA0G8e0wwfOUDwYA+B9sY4QAdA0f6crTRAjBLgblnxMUA1oMAMUog5QG+T36TrXDlAtmz8yNVcOUDcA5kud1A5QHxsYF8EHzlATanITzWwNED3H5wcEdoyQJV8V4HXWD5Ay3pdlcJWOUDAydvCAk45QK99R7X4PzlA6paGTDYfOUDZddiaVVM2QEj7CvNXVjFA9ay3FdGHOUB0DlJzmac5QKAG+rCPjzlAZIAvhTZbOUDKnpcAGwg5QJ5t/MPIZTRAaeiTiWDKMUAB8kMIxIo5QBDgM7KJazlARhmvcwR9OUAKiIGJMl45QOzABU6g6jhABzadcUGTNEBWNq+cwT8wQCAXcM/tgzlAKTaXGexMOUDFa+Ou2Lk5QOUjVgKcFTlAK67xhm3TOEAdfrC/zL00QEFt2P+Y3zFA3u+XDBmTOUDH2I1Q8lE5QCZme5y8WzlAngy2JhhJOUD3EqsMOQA5QDOG3/PxwTRA0rhLbgUiNkA=",
          "dtype": "f8"
         },
         "yaxis": "y"
        },
        {
         "line": {
          "color": "blue",
          "dash": "dot"
         },
         "name": "Direct Care Total Hours",
         "type": "scatter",
         "x": [
          "2024-04-01T00:00:00.000000000",
          "2024-04-02T00:00:00.000000000",
          "2024-04-03T00:00:00.000000000",
          "2024-04-04T00:00:00.000000000",
          "2024-04-05T00:00:00.000000000",
          "2024-04-06T00:00:00.000000000",
          "2024-04-07T00:00:00.000000000",
          "2024-04-08T00:00:00.000000000",
          "2024-04-09T00:00:00.000000000",
          "2024-04-10T00:00:00.000000000",
          "2024-04-11T00:00:00.000000000",
          "2024-04-12T00:00:00.000000000",
          "2024-04-13T00:00:00.000000000",
          "2024-04-14T00:00:00.000000000",
          "2024-04-15T00:00:00.000000000",
          "2024-04-16T00:00:00.000000000",
          "2024-04-17T00:00:00.000000000",
          "2024-04-18T00:00:00.000000000",
          "2024-04-19T00:00:00.000000000",
          "2024-04-20T00:00:00.000000000",
          "2024-04-21T00:00:00.000000000",
          "2024-04-22T00:00:00.000000000",
          "2024-04-23T00:00:00.000000000",
          "2024-04-24T00:00:00.000000000",
          "2024-04-25T00:00:00.000000000",
          "2024-04-26T00:00:00.000000000",
          "2024-04-27T00:00:00.000000000",
          "2024-04-28T00:00:00.000000000",
          "2024-04-29T00:00:00.000000000",
          "2024-04-30T00:00:00.000000000",
          "2024-05-01T00:00:00.000000000",
          "2024-05-02T00:00:00.000000000",
          "2024-05-03T00:00:00.000000000",
          "2024-05-04T00:00:00.000000000",
          "2024-05-05T00:00:00.000000000",
          "2024-05-06T00:00:00.000000000",
          "2024-05-07T00:00:00.000000000",
          "2024-05-08T00:00:00.000000000",
          "2024-05-09T00:00:00.000000000",
          "2024-05-10T00:00:00.000000000",
          "2024-05-11T00:00:00.000000000",
          "2024-05-12T00:00:00.000000000",
          "2024-05-13T00:00:00.000000000",
          "2024-05-14T00:00:00.000000000",
          "2024-05-15T00:00:00.000000000",
          "2024-05-16T00:00:00.000000000",
          "2024-05-17T00:00:00.000000000",
          "2024-05-18T00:00:00.000000000",
          "2024-05-19T00:00:00.000000000",
          "2024-05-20T00:00:00.000000000",
          "2024-05-21T00:00:00.000000000",
          "2024-05-22T00:00:00.000000000",
          "2024-05-23T00:00:00.000000000",
          "2024-05-24T00:00:00.000000000",
          "2024-05-25T00:00:00.000000000",
          "2024-05-26T00:00:00.000000000",
          "2024-05-27T00:00:00.000000000",
          "2024-05-28T00:00:00.000000000",
          "2024-05-29T00:00:00.000000000",
          "2024-05-30T00:00:00.000000000",
          "2024-05-31T00:00:00.000000000",
          "2024-06-01T00:00:00.000000000",
          "2024-06-02T00:00:00.000000000",
          "2024-06-03T00:00:00.000000000",
          "2024-06-04T00:00:00.000000000",
          "2024-06-05T00:00:00.000000000",
          "2024-06-06T00:00:00.000000000",
          "2024-06-07T00:00:00.000000000",
          "2024-06-08T00:00:00.000000000",
          "2024-06-09T00:00:00.000000000",
          "2024-06-10T00:00:00.000000000",
          "2024-06-11T00:00:00.000000000",
          "2024-06-12T00:00:00.000000000",
          "2024-06-13T00:00:00.000000000",
          "2024-06-14T00:00:00.000000000",
          "2024-06-15T00:00:00.000000000",
          "2024-06-16T00:00:00.000000000",
          "2024-06-17T00:00:00.000000000",
          "2024-06-18T00:00:00.000000000",
          "2024-06-19T00:00:00.000000000",
          "2024-06-20T00:00:00.000000000",
          "2024-06-21T00:00:00.000000000",
          "2024-06-22T00:00:00.000000000",
          "2024-06-23T00:00:00.000000000",
          "2024-06-24T00:00:00.000000000",
          "2024-06-25T00:00:00.000000000",
          "2024-06-26T00:00:00.000000000",
          "2024-06-27T00:00:00.000000000",
          "2024-06-28T00:00:00.000000000",
          "2024-06-29T00:00:00.000000000",
          "2024-06-30T00:00:00.000000000"
         ],
         "xaxis": "x2",
         "y": {
          "bdata": "mpmZGcPhTUFwPQq3zixPQQAAAAAchk9BkML1qEJfT0EAAABAYMVOQaRwPSqxtExBuB6FC34aTEFnZmbGVjROQY/C9agmQU9BSOF61JeXT0HsUbi+LYVPQXwUrseZ305B9ihcj6yxTEEUrkch8RZMQY/C9WgGmE5BUrgeRYxtT0EK16OQrMdPQbgehavPoE9B9ihcT2TkTkHiehTuGKZMQZDC9aj1I0xBH4XrEd29TkGkcD3KCI1PQexRuH5/309BzMzMDOioT0GuR+F6FetOQQAAACCfr0xBj8L1yNkfTEGE61H4DrxOQaNwPYoZlU9BrkfhulrFT0HiehQuNZxPQWZmZuZ/5U5B9ihcr1u9TEFRuB6lixZMQQrXo3AexU5B4noUDsWpT0FwPQqXPulPQVK4HiXzsE9BUrgeZSHbTkHNzMxsUYlMQUjhenSDN0tBSOF61GmRTkGuR+H6KrRPQa5H4Xr6/k9BcT0KF3i6T0H2KFyvSfBOQTMzMxMXvUxBpHA96jcyTEGF61FYMuZOQQrXo/B4rU9BmpmZWWLwT0GF61GYY7VPQfYoXA/t305B1qNwHZ7DTEF8FK5HzSJMQYTrUdgiWE5Bw/UoPISLT0HNzMw8xAFQQUjhepR53k9B9ihcD14YT0EfhetRsrVMQQrXoxA5OUxBMzMz8wT8TkH2KFwvXcxPQbgehdtaBlBBH4XrMWvRT0HYo3CdXRJPQetRuD7MykxBmpmZ+fFJTEF7FK6naRtPQVK4HmWr7U9B1qNwLSMTUEH2KFzv//NPQSlcj8K+Lk9BMzMzE7K+TEFmZmaGHrFLQexRuN475E5B9ihcj3fjT0HsUbi+4wxQQVyPwjUP5U9BkML1iGYjT0HD9SjcctVMQQrXo3AsQkxBkML1qIsKT0GuR+EaH+pPQexRuO43GVBBH4XrAagAUEFcj8LVTT1PQQrXo5C86kxBUbgeRXo4TEE=",
          "dtype": "f8"
         },
         "yaxis": "y2"
        },
        {
         "line": {
          "color": "green",
          "dash": "dot"
         },
         "name": "Support Total Hours",
         "type": "scatter",
         "x": [
          "2024-04-01T00:00:00.000000000",
          "2024-04-02T00:00:00.000000000",
          "2024-04-03T00:00:00.000000000",
          "2024-04-04T00:00:00.000000000",
          "2024-04-05T00:00:00.000000000",
          "2024-04-06T00:00:00.000000000",
          "2024-04-07T00:00:00.000000000",
          "2024-04-08T00:00:00.000000000",
          "2024-04-09T00:00:00.000000000",
          "2024-04-10T00:00:00.000000000",
          "2024-04-11T00:00:00.000000000",
          "2024-04-12T00:00:00.000000000",
          "2024-04-13T00:00:00.000000000",
          "2024-04-14T00:00:00.000000000",
          "2024-04-15T00:00:00.000000000",
          "2024-04-16T00:00:00.000000000",
          "2024-04-17T00:00:00.000000000",
          "2024-04-18T00:00:00.000000000",
          "2024-04-19T00:00:00.000000000",
          "2024-04-20T00:00:00.000000000",
          "2024-04-21T00:00:00.000000000",
          "2024-04-22T00:00:00.000000000",
          "2024-04-23T00:00:00.000000000",
          "2024-04-24T00:00:00.000000000",
          "2024-04-25T00:00:00.000000000",
          "2024-04-26T00:00:00.000000000",
          "2024-04-27T00:00:00.000000000",
          "2024-04-28T00:00:00.000000000",
          "2024-04-29T00:00:00.000000000",
          "2024-04-30T00:00:00.000000000",
          "2024-05-01T00:00:00.000000000",
          "2024-05-02T00:00:00.000000000",
          "2024-05-03T00:00:00.000000000",
          "2024-05-04T00:00:00.000000000",
          "2024-05-05T00:00:00.000000000",
          "2024-05-06T00:00:00.000000000",
          "2024-05-07T00:00:00.000000000",
          "2024-05-08T00:00:00.000000000",
          "2024-05-09T00:00:00.000000000",
          "2024-05-10T00:00:00.000000000",
          "2024-05-11T00:00:00.000000000",
          "2024-05-12T00:00:00.000000000",
          "2024-05-13T00:00:00.000000000",
          "2024-05-14T00:00:00.000000000",
          "2024-05-15T00:00:00.000000000",
          "2024-05-16T00:00:00.000000000",
          "2024-05-17T00:00:00.000000000",
          "2024-05-18T00:00:00.000000000",
          "2024-05-19T00:00:00.000000000",
          "2024-05-20T00:00:00.000000000",
          "2024-05-21T00:00:00.000000000",
          "2024-05-22T00:00:00.000000000",
          "2024-05-23T00:00:00.000000000",
          "2024-05-24T00:00:00.000000000",
          "2024-05-25T00:00:00.000000000",
          "2024-05-26T00:00:00.000000000",
          "2024-05-27T00:00:00.000000000",
          "2024-05-28T00:00:00.000000000",
          "2024-05-29T00:00:00.000000000",
          "2024-05-30T00:00:00.000000000",
          "2024-05-31T00:00:00.000000000",
          "2024-06-01T00:00:00.000000000",
          "2024-06-02T00:00:00.000000000",
          "2024-06-03T00:00:00.000000000",
          "2024-06-04T00:00:00.000000000",
          "2024-06-05T00:00:00.000000000",
          "2024-06-06T00:00:00.000000000",
          "2024-06-07T00:00:00.000000000",
          "2024-06-08T00:00:00.000000000",
          "2024-06-09T00:00:00.000000000",
          "2024-06-10T00:00:00.000000000",
          "2024-06-11T00:00:00.000000000",
          "2024-06-12T00:00:00.000000000",
          "2024-06-13T00:00:00.000000000",
          "2024-06-14T00:00:00.000000000",
          "2024-06-15T00:00:00.000000000",
          "2024-06-16T00:00:00.000000000",
          "2024-06-17T00:00:00.000000000",
          "2024-06-18T00:00:00.000000000",
          "2024-06-19T00:00:00.000000000",
          "2024-06-20T00:00:00.000000000",
          "2024-06-21T00:00:00.000000000",
          "2024-06-22T00:00:00.000000000",
          "2024-06-23T00:00:00.000000000",
          "2024-06-24T00:00:00.000000000",
          "2024-06-25T00:00:00.000000000",
          "2024-06-26T00:00:00.000000000",
          "2024-06-27T00:00:00.000000000",
          "2024-06-28T00:00:00.000000000",
          "2024-06-29T00:00:00.000000000",
          "2024-06-30T00:00:00.000000000"
         ],
         "xaxis": "x2",
         "y": {
          "bdata": "HoXrkeRpMUHrUbgeVZsyQc3MzIy3szJBXI/CddB0MkFI4XpUtg4xQWdmZma5HxFB7FG4HstSDUFdj8K1OlYxQZDC9SgLujJB7FG4nlbSMkHXo3D9KaMyQVK4HgW8MjFBH4XrUacGEUE9CtejOG8MQeB6FK5x2TFB4XoUrufNMkEUrkfh5e4yQY/C9ahNojJBAAAAwNscMUFSuB6FV88QQRSuR+EmnwxBKlyPQljiMUGvR+G6Jb0yQZDC9WiT0TJBj8L1KMWJMkEyMzPzBvswQXoUrkdK2hBBSOF6FEyiDEE0MzPz/tcxQYbrUXi11zJBXI/CdZzsMkGjcD1KzKIyQSCF6xEvCDFB9ihcj8y2EEFnZmZmmqYMQRWuRyGA6jFBMzMzsy+/MkHhehRuPdAyQexRuF4XijJBw/UoHGEBMUFSuB6FDs8QQeJ6FK6R+wpBHoXrkeD+MUF7FK5HFOAyQVyPwnVz6DJBuB6F64yNMkFSuB6FkQQxQa5H4XpJqRBBW4/C9RqvDEH1KFwPur0xQdejcH1ZmzJBFK5H4ZGqMkGamZlZeVwyQaRwPcqkiDBB9ihcjwnGEEHOzMzMvAgNQdejcD36ASZBrkfhekRnMkEAAAAAw64yQVK4HgWygzJBMzMzs1UOMUEK16NwQDkRQSlcj8IbbwxBCtejcDjMMUGkcD2KFb0yQTMzMzOdujJBFK5HYWpfMkFyPQoXKcswQVyPwvXyghBBmZmZmc1oDEFI4XpUybMxQQrXozBNmTJBUrgexVWdMkGPwvWo1UgyQa5H4bqP0TBBMzMzM8PGEEETrkfhvogLQR6F69HFrDFBrkfh+hadMkE9CtfjPEYyQZqZmRlPRjJB9ShcDwOeMEFTuB6FEI8QQV6PwvX+UgxBkcL1qLifMUE+CtcjWZAyQTIzM/NmojJBMzMz8+5YMkFmZmbmnsgwQZqZmZkvzhBBZmZmZsq6D0E=",
          "dtype": "f8"
         },
         "yaxis": "y2"
        }
       ],
       "layout": {
        "annotations": [
         {
          "font": {
           "size": 16
          },
          "showarrow": false,
          "text": "Temporary Staffing Ratios",
          "x": 0.5,
          "xanchor": "center",
          "xref": "paper",
          "y": 1,
          "yanchor": "bottom",
          "yref": "paper"
         },
         {
          "font": {
           "size": 16
          },
          "showarrow": false,
          "text": "Daily Total Hours",
          "x": 0.5,
          "xanchor": "center",
          "xref": "paper",
          "y": 0.255,
          "yanchor": "bottom",
          "yref": "paper"
         }
        ],
        "height": 800,
        "hovermode": "x unified",
        "showlegend": true,
        "template": {
         "data": {
          "bar": [
           {
            "error_x": {
             "color": "#2a3f5f"
            },
            "error_y": {
             "color": "#2a3f5f"
            },
            "marker": {
             "line": {
              "color": "#E5ECF6",
              "width": 0.5
             },
             "pattern": {
              "fillmode": "overlay",
              "size": 10,
              "solidity": 0.2
             }
            },
            "type": "bar"
           }
          ],
          "barpolar": [
           {
            "marker": {
             "line": {
              "color": "#E5ECF6",
              "width": 0.5
             },
             "pattern": {
              "fillmode": "overlay",
              "size": 10,
              "solidity": 0.2
             }
            },
            "type": "barpolar"
           }
          ],
          "carpet": [
           {
            "aaxis": {
             "endlinecolor": "#2a3f5f",
             "gridcolor": "white",
             "linecolor": "white",
             "minorgridcolor": "white",
             "startlinecolor": "#2a3f5f"
            },
            "baxis": {
             "endlinecolor": "#2a3f5f",
             "gridcolor": "white",
             "linecolor": "white",
             "minorgridcolor": "white",
             "startlinecolor": "#2a3f5f"
            },
            "type": "carpet"
           }
          ],
          "choropleth": [
           {
            "colorbar": {
             "outlinewidth": 0,
             "ticks": ""
            },
            "type": "choropleth"
           }
          ],
          "contour": [
           {
            "colorbar": {
             "outlinewidth": 0,
             "ticks": ""
            },
            "colorscale": [
             [
              0,
              "#0d0887"
             ],
             [
              0.1111111111111111,
              "#46039f"
             ],
             [
              0.2222222222222222,
              "#7201a8"
             ],
             [
              0.3333333333333333,
              "#9c179e"
             ],
             [
              0.4444444444444444,
              "#bd3786"
             ],
             [
              0.5555555555555556,
              "#d8576b"
             ],
             [
              0.6666666666666666,
              "#ed7953"
             ],
             [
              0.7777777777777778,
              "#fb9f3a"
             ],
             [
              0.8888888888888888,
              "#fdca26"
             ],
             [
              1,
              "#f0f921"
             ]
            ],
            "type": "contour"
           }
          ],
          "contourcarpet": [
           {
            "colorbar": {
             "outlinewidth": 0,
             "ticks": ""
            },
            "type": "contourcarpet"
           }
          ],
          "heatmap": [
           {
            "colorbar": {
             "outlinewidth": 0,
             "ticks": ""
            },
            "colorscale": [
             [
              0,
              "#0d0887"
             ],
             [
              0.1111111111111111,
              "#46039f"
             ],
             [
              0.2222222222222222,
              "#7201a8"
             ],
             [
              0.3333333333333333,
              "#9c179e"
             ],
             [
              0.4444444444444444,
              "#bd3786"
             ],
             [
              0.5555555555555556,
              "#d8576b"
             ],
             [
              0.6666666666666666,
              "#ed7953"
             ],
             [
              0.7777777777777778,
              "#fb9f3a"
             ],
             [
              0.8888888888888888,
              "#fdca26"
             ],
             [
              1,
              "#f0f921"
             ]
            ],
            "type": "heatmap"
           }
          ],
          "histogram": [
           {
            "marker": {
             "pattern": {
              "fillmode": "overlay",
              "size": 10,
              "solidity": 0.2
             }
            },
            "type": "histogram"
           }
          ],
          "histogram2d": [
           {
            "colorbar": {
             "outlinewidth": 0,
             "ticks": ""
            },
            "colorscale": [
             [
              0,
              "#0d0887"
             ],
             [
              0.1111111111111111,
              "#46039f"
             ],
             [
              0.2222222222222222,
              "#7201a8"
             ],
             [
              0.3333333333333333,
              "#9c179e"
             ],
             [
              0.4444444444444444,
              "#bd3786"
             ],
             [
              0.5555555555555556,
              "#d8576b"
             ],
             [
              0.6666666666666666,
              "#ed7953"
             ],
             [
              0.7777777777777778,
              "#fb9f3a"
             ],
             [
              0.8888888888888888,
              "#fdca26"
             ],
             [
              1,
              "#f0f921"
             ]
            ],
            "type": "histogram2d"
           }
          ],
          "histogram2dcontour": [
           {
            "colorbar": {
             "outlinewidth": 0,
             "ticks": ""
            },
            "colorscale": [
             [
              0,
              "#0d0887"
             ],
             [
              0.1111111111111111,
              "#46039f"
             ],
             [
              0.2222222222222222,
              "#7201a8"
             ],
             [
              0.3333333333333333,
              "#9c179e"
             ],
             [
              0.4444444444444444,
              "#bd3786"
             ],
             [
              0.5555555555555556,
              "#d8576b"
             ],
             [
              0.6666666666666666,
              "#ed7953"
             ],
             [
              0.7777777777777778,
              "#fb9f3a"
             ],
             [
              0.8888888888888888,
              "#fdca26"
             ],
             [
              1,
              "#f0f921"
             ]
            ],
            "type": "histogram2dcontour"
           }
          ],
          "mesh3d": [
           {
            "colorbar": {
             "outlinewidth": 0,
             "ticks": ""
            },
            "type": "mesh3d"
           }
          ],
          "parcoords": [
           {
            "line": {
             "colorbar": {
              "outlinewidth": 0,
              "ticks": ""
             }
            },
            "type": "parcoords"
           }
          ],
          "pie": [
           {
            "automargin": true,
            "type": "pie"
           }
          ],
          "scatter": [
           {
            "fillpattern": {
             "fillmode": "overlay",
             "size": 10,
             "solidity": 0.2
            },
            "type": "scatter"
           }
          ],
          "scatter3d": [
           {
            "line": {
             "colorbar": {
              "outlinewidth": 0,
              "ticks": ""
             }
            },
            "marker": {
             "colorbar": {
              "outlinewidth": 0,
              "ticks": ""
             }
            },
            "type": "scatter3d"
           }
          ],
          "scattercarpet": [
           {
            "marker": {
             "colorbar": {
              "outlinewidth": 0,
              "ticks": ""
             }
            },
            "type": "scattercarpet"
           }
          ],
          "scattergeo": [
           {
            "marker": {
             "colorbar": {
              "outlinewidth": 0,
              "ticks": ""
             }
            },
            "type": "scattergeo"
           }
          ],
          "scattergl": [
           {
            "marker": {
             "colorbar": {
              "outlinewidth": 0,
              "ticks": ""
             }
            },
            "type": "scattergl"
           }
          ],
          "scattermap": [
           {
            "marker": {
             "colorbar": {
              "outlinewidth": 0,
              "ticks": ""
             }
            },
            "type": "scattermap"
           }
          ],
          "scattermapbox": [
           {
            "marker": {
             "colorbar": {
              "outlinewidth": 0,
              "ticks": ""
             }
            },
            "type": "scattermapbox"
           }
          ],
          "scatterpolar": [
           {
            "marker": {
             "colorbar": {
              "outlinewidth": 0,
              "ticks": ""
             }
            },
            "type": "scatterpolar"
           }
          ],
          "scatterpolargl": [
           {
            "marker": {
             "colorbar": {
              "outlinewidth": 0,
              "ticks": ""
             }
            },
            "type": "scatterpolargl"
           }
          ],
          "scatterternary": [
           {
            "marker": {
             "colorbar": {
              "outlinewidth": 0,
              "ticks": ""
             }
            },
            "type": "scatterternary"
           }
          ],
          "surface": [
           {
            "colorbar": {
             "outlinewidth": 0,
             "ticks": ""
            },
            "colorscale": [
             [
              0,
              "#0d0887"
             ],
             [
              0.1111111111111111,
              "#46039f"
             ],
             [
              0.2222222222222222,
              "#7201a8"
             ],
             [
              0.3333333333333333,
              "#9c179e"
             ],
             [
              0.4444444444444444,
              "#bd3786"
             ],
             [
              0.5555555555555556,
              "#d8576b"
             ],
             [
              0.6666666666666666,
              "#ed7953"
             ],
             [
              0.7777777777777778,
              "#fb9f3a"
             ],
             [
              0.8888888888888888,
              "#fdca26"
             ],
             [
              1,
              "#f0f921"
             ]
            ],
            "type": "surface"
           }
          ],
          "table": [
           {
            "cells": {
             "fill": {
              "color": "#EBF0F8"
             },
             "line": {
              "color": "white"
             }
            },
            "header": {
             "fill": {
              "color": "#C8D4E3"
             },
             "line": {
              "color": "white"
             }
            },
            "type": "table"
           }
          ]
         },
         "layout": {
          "annotationdefaults": {
           "arrowcolor": "#2a3f5f",
           "arrowhead": 0,
           "arrowwidth": 1
          },
          "autotypenumbers": "strict",
          "coloraxis": {
           "colorbar": {
            "outlinewidth": 0,
            "ticks": ""
           }
          },
          "colorscale": {
           "diverging": [
            [
             0,
             "#8e0152"
            ],
            [
             0.1,
             "#c51b7d"
            ],
            [
             0.2,
             "#de77ae"
            ],
            [
             0.3,
             "#f1b6da"
            ],
            [
             0.4,
             "#fde0ef"
            ],
            [
             0.5,
             "#f7f7f7"
            ],
            [
             0.6,
             "#e6f5d0"
            ],
            [
             0.7,
             "#b8e186"
            ],
            [
             0.8,
             "#7fbc41"
            ],
            [
             0.9,
             "#4d9221"
            ],
            [
             1,
             "#276419"
            ]
           ],
           "sequential": [
            [
             0,
             "#0d0887"
            ],
            [
             0.1111111111111111,
             "#46039f"
            ],
            [
             0.2222222222222222,
             "#7201a8"
            ],
            [
             0.3333333333333333,
             "#9c179e"
            ],
            [
             0.4444444444444444,
             "#bd3786"
            ],
            [
             0.5555555555555556,
             "#d8576b"
            ],
            [
             0.6666666666666666,
             "#ed7953"
            ],
            [
             0.7777777777777778,
             "#fb9f3a"
            ],
            [
             0.8888888888888888,
             "#fdca26"
            ],
            [
             1,
             "#f0f921"
            ]
           ],
           "sequentialminus": [
            [
             0,
             "#0d0887"
            ],
            [
             0.1111111111111111,
             "#46039f"
            ],
            [
             0.2222222222222222,
             "#7201a8"
            ],
            [
             0.3333333333333333,
             "#9c179e"
            ],
            [
             0.4444444444444444,
             "#bd3786"
            ],
            [
             0.5555555555555556,
             "#d8576b"
            ],
            [
             0.6666666666666666,
             "#ed7953"
            ],
            [
             0.7777777777777778,
             "#fb9f3a"
            ],
            [
             0.8888888888888888,
             "#fdca26"
            ],
            [
             1,
             "#f0f921"
            ]
           ]
          },
          "colorway": [
           "#636efa",
           "#EF553B",
           "#00cc96",
           "#ab63fa",
           "#FFA15A",
           "#19d3f3",
           "#FF6692",
           "#B6E880",
           "#FF97FF",
           "#FECB52"
          ],
          "font": {
           "color": "#2a3f5f"
          },
          "geo": {
           "bgcolor": "white",
           "lakecolor": "white",
           "landcolor": "#E5ECF6",
           "showlakes": true,
           "showland": true,
           "subunitcolor": "white"
          },
          "hoverlabel": {
           "align": "left"
          },
          "hovermode": "closest",
          "mapbox": {
           "style": "light"
          },
          "paper_bgcolor": "white",
          "plot_bgcolor": "#E5ECF6",
          "polar": {
           "angularaxis": {
            "gridcolor": "white",
            "linecolor": "white",
            "ticks": ""
           },
           "bgcolor": "#E5ECF6",
           "radialaxis": {
            "gridcolor": "white",
            "linecolor": "white",
            "ticks": ""
           }
          },
          "scene": {
           "xaxis": {
            "backgroundcolor": "#E5ECF6",
            "gridcolor": "white",
            "gridwidth": 2,
            "linecolor": "white",
            "showbackground": true,
            "ticks": "",
            "zerolinecolor": "white"
           },
           "yaxis": {
            "backgroundcolor": "#E5ECF6",
            "gridcolor": "white",
            "gridwidth": 2,
            "linecolor": "white",
            "showbackground": true,
            "ticks": "",
            "zerolinecolor": "white"
           },
           "zaxis": {
            "backgroundcolor": "#E5ECF6",
            "gridcolor": "white",
            "gridwidth": 2,
            "linecolor": "white",
            "showbackground": true,
            "ticks": "",
            "zerolinecolor": "white"
           }
          },
          "shapedefaults": {
           "line": {
            "color": "#2a3f5f"
           }
          },
          "ternary": {
           "aaxis": {
            "gridcolor": "white",
            "linecolor": "white",
            "ticks": ""
           },
           "baxis": {
            "gridcolor": "white",
            "linecolor": "white",
            "ticks": ""
           },
           "bgcolor": "#E5ECF6",
           "caxis": {
            "gridcolor": "white",
            "linecolor": "white",
            "ticks": ""
           }
          },
          "title": {
           "x": 0.05
          },
          "xaxis": {
           "automargin": true,
           "gridcolor": "white",
           "linecolor": "white",
           "ticks": "",
           "title": {
            "standoff": 15
           },
           "zerolinecolor": "white",
           "zerolinewidth": 2
          },
          "yaxis": {
           "automargin": true,
           "gridcolor": "white",
           "linecolor": "white",
           "ticks": "",
           "title": {
            "standoff": 15
           },
           "zerolinecolor": "white",
           "zerolinewidth": 2
          }
         }
        },
        "title": {
         "text": "Temporary Staffing Analysis - Q2 2024"
        },
        "xaxis": {
         "anchor": "y",
         "domain": [
          0,
          1
         ]
        },
        "xaxis2": {
         "anchor": "y2",
         "domain": [
          0,
          1
         ]
        },
        "yaxis": {
         "anchor": "x",
         "domain": [
          0.405,
          1
         ],
         "title": {
          "text": "Temporary Staffing Ratio (%)"
         }
        },
        "yaxis2": {
         "anchor": "x2",
         "domain": [
          0,
          0.255
         ],
         "title": {
          "text": "Total Hours"
         }
        }
       }
      }
     },
     "metadata": {},
     "output_type": "display_data"
    }
   ],
   "source": [
    "import pandas as pd\n",
    "import plotly.express as px\n",
    "import plotly.graph_objects as go\n",
    "from plotly.subplots import make_subplots\n",
    "\n",
    "def calculate_daily_ratios(df_nurse, df_non_nurse):\n",
    "    \"\"\"\n",
    "    Calculate daily temporary staffing ratios and total hours for nursing and non-nursing roles\n",
    "    \"\"\"\n",
    "    # Process nursing data\n",
    "    nursing_grouped = df_nurse.groupby('workdate').agg({\n",
    "        'hrs_rn_ctr': 'sum',\n",
    "        'hrs_rn_emp': 'sum',\n",
    "        'hrs_lpn_ctr': 'sum',\n",
    "        'hrs_lpn_emp': 'sum',\n",
    "        'hrs_cna_ctr': 'sum',\n",
    "        'hrs_cna_emp': 'sum'\n",
    "    }).reset_index()\n",
    "    \n",
    "    # Calculate nursing ratios and total hours\n",
    "    nursing_grouped['nursing_ratio'] = (\n",
    "        (nursing_grouped['hrs_rn_ctr'] + nursing_grouped['hrs_lpn_ctr'] + nursing_grouped['hrs_cna_ctr']) /\n",
    "        (nursing_grouped['hrs_rn_ctr'] + nursing_grouped['hrs_rn_emp'] +\n",
    "         nursing_grouped['hrs_lpn_ctr'] + nursing_grouped['hrs_lpn_emp'] +\n",
    "         nursing_grouped['hrs_cna_ctr'] + nursing_grouped['hrs_cna_emp']) * 100\n",
    "    )\n",
    "    \n",
    "    nursing_grouped['nursing_total_hours'] = (\n",
    "        nursing_grouped['hrs_rn_ctr'] + nursing_grouped['hrs_rn_emp'] +\n",
    "        nursing_grouped['hrs_lpn_ctr'] + nursing_grouped['hrs_lpn_emp'] +\n",
    "        nursing_grouped['hrs_cna_ctr'] + nursing_grouped['hrs_cna_emp']\n",
    "    )\n",
    "    \n",
    "    # Process non-nursing data\n",
    "    contract_cols = [col for col in df_non_nurse.columns if col.endswith('_ctr')]\n",
    "    employee_cols = [col for col in df_non_nurse.columns if col.endswith('_emp')]\n",
    "    \n",
    "    non_nursing_grouped = df_non_nurse.groupby('workdate').agg({\n",
    "        **{col: 'sum' for col in contract_cols},\n",
    "        **{col: 'sum' for col in employee_cols}\n",
    "    }).reset_index()\n",
    "    \n",
    "    # Calculate non-nursing ratios and total hours\n",
    "    non_nursing_grouped['non_nursing_ratio'] = (\n",
    "        non_nursing_grouped[contract_cols].sum(axis=1) /\n",
    "        (non_nursing_grouped[contract_cols].sum(axis=1) + \n",
    "         non_nursing_grouped[employee_cols].sum(axis=1)) * 100\n",
    "    )\n",
    "    \n",
    "    non_nursing_grouped['non_nursing_total_hours'] = (\n",
    "        non_nursing_grouped[contract_cols].sum(axis=1) + \n",
    "        non_nursing_grouped[employee_cols].sum(axis=1)\n",
    "    )\n",
    "    \n",
    "    return nursing_grouped, non_nursing_grouped\n",
    "\n",
    "def create_comparison_plots(nursing_grouped, non_nursing_grouped):\n",
    "    \"\"\"\n",
    "    Create visualization comparing nursing and non-nursing staffing metrics\n",
    "    \"\"\"\n",
    "    # Create figure with secondary y-axis\n",
    "    fig = make_subplots(rows=2, cols=1, \n",
    "                       subplot_titles=('Temporary Staffing Ratios', 'Daily Total Hours'),\n",
    "                       vertical_spacing=0.15,\n",
    "                       row_heights=[0.7, 0.3])\n",
    "\n",
    "    # Add traces for ratios (top plot)\n",
    "    fig.add_trace(\n",
    "        go.Scatter(x=nursing_grouped['workdate'], \n",
    "                  y=nursing_grouped['nursing_ratio'],\n",
    "                  name=\"Direct Care (Nursing)\",\n",
    "                  line=dict(color='blue')),\n",
    "        row=1, col=1\n",
    "    )\n",
    "\n",
    "    fig.add_trace(\n",
    "        go.Scatter(x=non_nursing_grouped['workdate'], \n",
    "                  y=non_nursing_grouped['non_nursing_ratio'],\n",
    "                  name=\"Support (Non-Nursing)\",\n",
    "                  line=dict(color='green')),\n",
    "        row=1, col=1\n",
    "    )\n",
    "\n",
    "    # Add traces for total hours (bottom plot)\n",
    "    fig.add_trace(\n",
    "        go.Scatter(x=nursing_grouped['workdate'], \n",
    "                  y=nursing_grouped['nursing_total_hours'],\n",
    "                  name=\"Direct Care Total Hours\",\n",
    "                  line=dict(color='blue', dash='dot')),\n",
    "        row=2, col=1\n",
    "    )\n",
    "\n",
    "    fig.add_trace(\n",
    "        go.Scatter(x=non_nursing_grouped['workdate'], \n",
    "                  y=non_nursing_grouped['non_nursing_total_hours'],\n",
    "                  name=\"Support Total Hours\",\n",
    "                  line=dict(color='green', dash='dot')),\n",
    "        row=2, col=1\n",
    "    )\n",
    "\n",
    "    # Update layout\n",
    "    fig.update_layout(\n",
    "        title='Temporary Staffing Analysis - Q2 2024',\n",
    "        height=800,\n",
    "        showlegend=True,\n",
    "        hovermode='x unified'\n",
    "    )\n",
    "\n",
    "    # Update y-axes labels\n",
    "    fig.update_yaxes(title_text=\"Temporary Staffing Ratio (%)\", row=1, col=1)\n",
    "    fig.update_yaxes(title_text=\"Total Hours\", row=2, col=1)\n",
    "\n",
    "    return fig\n",
    "\n",
    "def print_summary_statistics(nursing_grouped, non_nursing_grouped):\n",
    "    \"\"\"\n",
    "    Print summary statistics for both nursing and non-nursing metrics\n",
    "    \"\"\"\n",
    "    print(\"\\nDirect Care (Nursing) Statistics:\")\n",
    "    print(f\"Average Ratio: {nursing_grouped['nursing_ratio'].mean():.2f}%\")\n",
    "    print(f\"Minimum Ratio: {nursing_grouped['nursing_ratio'].min():.2f}%\")\n",
    "    print(f\"Maximum Ratio: {nursing_grouped['nursing_ratio'].max():.2f}%\")\n",
    "    print(f\"Average Daily Hours: {nursing_grouped['nursing_total_hours'].mean():.2f}\")\n",
    "    \n",
    "    print(\"\\nSupport Staff (Non-Nursing) Statistics:\")\n",
    "    print(f\"Average Ratio: {non_nursing_grouped['non_nursing_ratio'].mean():.2f}%\")\n",
    "    print(f\"Minimum Ratio: {non_nursing_grouped['non_nursing_ratio'].min():.2f}%\")\n",
    "    print(f\"Maximum Ratio: {non_nursing_grouped['non_nursing_ratio'].max():.2f}%\")\n",
    "    print(f\"Average Daily Hours: {non_nursing_grouped['non_nursing_total_hours'].mean():.2f}\")\n",
    "\n",
    "# Main analysis code\n",
    "def run_staffing_analysis(df_nurse, df_non_nurse):\n",
    "    \"\"\"\n",
    "    Run the complete staffing analysis\n",
    "    \"\"\"\n",
    "    # Calculate daily ratios\n",
    "    nursing_grouped, non_nursing_grouped = calculate_daily_ratios(df_nurse, df_non_nurse)\n",
    "    \n",
    "    # Create and display plots\n",
    "    fig = create_comparison_plots(nursing_grouped, non_nursing_grouped)\n",
    "    fig.show()\n",
    "    \n",
    "    # Print summary statistics\n",
    "    print_summary_statistics(nursing_grouped, non_nursing_grouped)\n",
    "    \n",
    "    return nursing_grouped, non_nursing_grouped\n",
    "\n",
    "# Example usage:\n",
    "nursing_grouped, non_nursing_grouped = run_staffing_analysis(\n",
    "    loaded_datasets['pbj_nurse'],\n",
    "    loaded_datasets['pbj_non_nurse']\n",
    ")"
   ]
  }
 ],
 "metadata": {
  "kernelspec": {
   "display_name": "clipboard_health",
   "language": "python",
   "name": "python3"
  },
  "language_info": {
   "codemirror_mode": {
    "name": "ipython",
    "version": 3
   },
   "file_extension": ".py",
   "mimetype": "text/x-python",
   "name": "python",
   "nbconvert_exporter": "python",
   "pygments_lexer": "ipython3",
   "version": "3.13.1"
  }
 },
 "nbformat": 4,
 "nbformat_minor": 2
}
