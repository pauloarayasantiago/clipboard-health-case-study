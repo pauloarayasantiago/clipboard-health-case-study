{
 "cells": [
  {
   "cell_type": "code",
   "execution_count": 5,
   "metadata": {},
   "outputs": [],
   "source": [
    "# Process Phase - Logging Setup\n",
    "import logging\n",
    "import sys\n",
    "\n",
    "LOG_FILE = \"chatgpt_o1.log\"\n",
    "\n",
    "logging.basicConfig(\n",
    "    level=logging.INFO,\n",
    "    filename=LOG_FILE,\n",
    "    filemode=\"w\",  # Overwrite previous logs on each run\n",
    "    format=\"%(asctime)s - %(levelname)s - %(message)s\"\n",
    ")\n",
    "logger = logging.getLogger()\n",
    "\n",
    "# Redirect print statements to the logger\n",
    "class LoggerWriter:\n",
    "    def __init__(self, level):\n",
    "        self.level = level\n",
    "    def write(self, message):\n",
    "        if message.strip():\n",
    "            self.level(message.strip())\n",
    "    def flush(self):\n",
    "        pass\n",
    "\n",
    "sys.stdout = LoggerWriter(logger.info)\n",
    "sys.stderr = LoggerWriter(logger.error)\n",
    "\n",
    "print(\"=== Starting  Notebook: Logging Setup Complete ===\")\n"
   ]
  },
  {
   "cell_type": "code",
   "execution_count": 6,
   "metadata": {},
   "outputs": [],
   "source": [
    "# Process Phase - Cell 1: Load Prepared Datasets\n",
    "\n",
    "import os\n",
    "import pandas as pd\n",
    "\n",
    "# Define the path where the prepared datasets are stored\n",
    "PREPARED_PATH = \"./data/prepared/\"\n",
    "\n",
    "# Dictionary mapping dataset names to their prepared file names\n",
    "files = {\n",
    "    \"pbj_nurse\": \"pbj_nurse_prepared.parquet\",\n",
    "    \"pbj_non_nurse\": \"pbj_non_nurse_prepared.parquet\",\n",
    "    \"qrp_provider\": \"qrp_provider_prepared.parquet\",\n",
    "    \"nh_survey\": \"nh_survey_prepared.parquet\",\n",
    "    \"nh_quality_mds\": \"nh_quality_mds_prepared.parquet\",\n",
    "    \"nh_ownership\": \"nh_ownership_prepared.parquet\",\n",
    "    \"nh_citations\": \"nh_citations_prepared.parquet\"\n",
    "}\n",
    "\n",
    "loaded_datasets = {}\n",
    "for key, filename in files.items():\n",
    "    file_path = os.path.join(PREPARED_PATH, filename)\n",
    "    try:\n",
    "        loaded_datasets[key] = pd.read_parquet(file_path)\n",
    "        print(f\"Loaded {key} with shape {loaded_datasets[key].shape}\")\n",
    "    except Exception as e:\n",
    "        print(f\"Error loading {key}: {e}\")\n",
    "\n",
    "# Optionally, check the columns of one dataset to verify\n",
    "print(\"Columns in pbj_nurse:\", loaded_datasets['pbj_nurse'].columns.tolist())\n"
   ]
  },
  {
   "cell_type": "code",
   "execution_count": 7,
   "metadata": {},
   "outputs": [],
   "source": [
    "for key, df in loaded_datasets.items():\n",
    "    print(\"Dataset:\", key)\n",
    "    print(\"Shape:\", df.shape)\n",
    "    print(\"Columns:\", df.columns.tolist())\n",
    "    print(\"Data Types:\\n\", df.dtypes)\n",
    "    print(\"-\" * 40)\n"
   ]
  },
  {
   "cell_type": "code",
   "execution_count": 8,
   "metadata": {},
   "outputs": [],
   "source": [
    "# For nurse dataset\n",
    "print(\"=== pbj_nurse SAMPLE ROWS ===\")\n",
    "print(loaded_datasets['pbj_nurse'].head(5))\n",
    "\n",
    "# For non-nurse dataset\n",
    "print(\"=== pbj_non_nurse SAMPLE ROWS ===\")\n",
    "print(loaded_datasets['pbj_non_nurse'].head(5))\n"
   ]
  },
  {
   "cell_type": "code",
   "execution_count": 10,
   "metadata": {},
   "outputs": [],
   "source": [
    "# For the nurse dataset\n",
    "print(\"pbj_nurse provnum unique count:\", loaded_datasets['pbj_nurse']['provnum'].nunique())\n",
    "print(\"pbj_nurse missing in provnum:\", loaded_datasets['pbj_nurse']['provnum'].isna().sum())\n",
    "\n",
    "# If there's a date column, e.g. 'workdate'\n",
    "if 'workdate' in loaded_datasets['pbj_nurse'].columns:\n",
    "    print(\"pbj_nurse date range:\",\n",
    "          loaded_datasets['pbj_nurse']['workdate'].min(), \n",
    "          \"to\", \n",
    "          loaded_datasets['pbj_nurse']['workdate'].max())\n"
   ]
  },
  {
   "cell_type": "code",
   "execution_count": 11,
   "metadata": {},
   "outputs": [],
   "source": [
    "hour_cols = [c for c in loaded_datasets['pbj_nurse'].columns if 'hrs_' in c.lower()]\n",
    "print(\"Nurse hour columns:\", hour_cols)\n",
    "\n",
    "print(\"=== Nurse Hour Columns Summary ===\")\n",
    "print(loaded_datasets['pbj_nurse'][hour_cols].describe())\n"
   ]
  },
  {
   "cell_type": "code",
   "execution_count": 12,
   "metadata": {},
   "outputs": [],
   "source": [
    "import pandas as pd\n",
    "\n",
    "pbj_nurse = loaded_datasets[\"pbj_nurse\"].copy()\n",
    "\n",
    "# List the columns you want to count as direct care (employee vs. contract)\n",
    "directcare_emp_cols = [\"hrs_rn_emp\", \"hrs_lpn_emp\", \"hrs_cna_emp\", \n",
    "                       \"hrs_natrn_emp\", \"hrs_medaide_emp\"]\n",
    "directcare_ctr_cols = [\"hrs_rn_ctr\", \"hrs_lpn_ctr\", \"hrs_cna_ctr\", \n",
    "                       \"hrs_natrn_ctr\", \"hrs_medaide_ctr\"]\n",
    "\n",
    "pbj_nurse[\"nurse_directcare_emp\"] = pbj_nurse[directcare_emp_cols].sum(axis=1)\n",
    "pbj_nurse[\"nurse_directcare_ctr\"] = pbj_nurse[directcare_ctr_cols].sum(axis=1)\n",
    "\n",
    "# Group by facility (and optionally by date if you want a time‐based ratio).\n",
    "df_nurse_agg = (\n",
    "    pbj_nurse\n",
    "    .groupby(\"provnum\", as_index=False)\n",
    "    .agg({\n",
    "       \"nurse_directcare_emp\": \"sum\",\n",
    "       \"nurse_directcare_ctr\": \"sum\"\n",
    "    })\n",
    ")\n",
    "\n",
    "# Compute the “direct care” Nursing Ratio\n",
    "df_nurse_agg[\"nursing_ratio\"] = (\n",
    "    df_nurse_agg[\"nurse_directcare_ctr\"] /\n",
    "    (df_nurse_agg[\"nurse_directcare_emp\"] + df_nurse_agg[\"nurse_directcare_ctr\"]).replace(0, 1e-6)\n",
    ")\n",
    "\n",
    "print(\"Sample nurse_agg:\")\n",
    "print(df_nurse_agg.head())\n"
   ]
  },
  {
   "cell_type": "code",
   "execution_count": 14,
   "metadata": {},
   "outputs": [],
   "source": [
    "pbj_non_nurse = loaded_datasets[\"pbj_non_nurse\"].copy()\n",
    "\n",
    "# Identify all columns with _emp or _ctr that are presumably hours\n",
    "non_nurse_emp_cols = [c for c in pbj_non_nurse.columns if c.endswith(\"_emp\")]\n",
    "non_nurse_ctr_cols = [c for c in pbj_non_nurse.columns if c.endswith(\"_ctr\")]\n",
    "\n",
    "pbj_non_nurse[\"non_nurse_emp\"] = pbj_non_nurse[non_nurse_emp_cols].sum(axis=1)\n",
    "pbj_non_nurse[\"non_nurse_ctr\"] = pbj_non_nurse[non_nurse_ctr_cols].sum(axis=1)\n",
    "\n",
    "df_non_nurse_agg = (\n",
    "    pbj_non_nurse\n",
    "    .groupby(\"provnum\", as_index=False)\n",
    "    .agg({\n",
    "       \"non_nurse_emp\": \"sum\",\n",
    "       \"non_nurse_ctr\": \"sum\"\n",
    "    })\n",
    ")\n",
    "\n",
    "df_non_nurse_agg[\"non_nursing_ratio\"] = (\n",
    "    df_non_nurse_agg[\"non_nurse_ctr\"] /\n",
    "    (df_non_nurse_agg[\"non_nurse_emp\"] + df_non_nurse_agg[\"non_nurse_ctr\"]).replace(0, 1e-6)\n",
    ")\n",
    "\n",
    "print(\"Sample non_nurse_agg:\")\n",
    "print(df_non_nurse_agg.head())\n"
   ]
  },
  {
   "cell_type": "code",
   "execution_count": 15,
   "metadata": {},
   "outputs": [
    {
     "data": {
      "text/html": [
       "<div>\n",
       "<style scoped>\n",
       "    .dataframe tbody tr th:only-of-type {\n",
       "        vertical-align: middle;\n",
       "    }\n",
       "\n",
       "    .dataframe tbody tr th {\n",
       "        vertical-align: top;\n",
       "    }\n",
       "\n",
       "    .dataframe thead th {\n",
       "        text-align: right;\n",
       "    }\n",
       "</style>\n",
       "<table border=\"1\" class=\"dataframe\">\n",
       "  <thead>\n",
       "    <tr style=\"text-align: right;\">\n",
       "      <th></th>\n",
       "      <th>provnum</th>\n",
       "      <th>nursing_ratio</th>\n",
       "      <th>non_nursing_ratio</th>\n",
       "    </tr>\n",
       "  </thead>\n",
       "  <tbody>\n",
       "    <tr>\n",
       "      <th>0</th>\n",
       "      <td>015009</td>\n",
       "      <td>0.0</td>\n",
       "      <td>0.318080</td>\n",
       "    </tr>\n",
       "    <tr>\n",
       "      <th>1</th>\n",
       "      <td>015010</td>\n",
       "      <td>0.0</td>\n",
       "      <td>0.552649</td>\n",
       "    </tr>\n",
       "    <tr>\n",
       "      <th>2</th>\n",
       "      <td>015012</td>\n",
       "      <td>0.0</td>\n",
       "      <td>0.581133</td>\n",
       "    </tr>\n",
       "    <tr>\n",
       "      <th>3</th>\n",
       "      <td>015014</td>\n",
       "      <td>0.0</td>\n",
       "      <td>0.635125</td>\n",
       "    </tr>\n",
       "    <tr>\n",
       "      <th>4</th>\n",
       "      <td>015015</td>\n",
       "      <td>0.0</td>\n",
       "      <td>0.356902</td>\n",
       "    </tr>\n",
       "  </tbody>\n",
       "</table>\n",
       "</div>"
      ],
      "text/plain": [
       "  provnum  nursing_ratio  non_nursing_ratio\n",
       "0  015009            0.0           0.318080\n",
       "1  015010            0.0           0.552649\n",
       "2  015012            0.0           0.581133\n",
       "3  015014            0.0           0.635125\n",
       "4  015015            0.0           0.356902"
      ]
     },
     "execution_count": 15,
     "metadata": {},
     "output_type": "execute_result"
    }
   ],
   "source": [
    "df_combined = pd.merge(\n",
    "    df_nurse_agg[[\"provnum\", \"nursing_ratio\"]],\n",
    "    df_non_nurse_agg[[\"provnum\", \"non_nursing_ratio\"]],\n",
    "    on=\"provnum\",\n",
    "    how=\"outer\"\n",
    ")\n",
    "\n",
    "df_combined.head()\n"
   ]
  },
  {
   "cell_type": "code",
   "execution_count": 16,
   "metadata": {},
   "outputs": [],
   "source": [
    "print(\"Nursing contract hours summary:\")\n",
    "print(df_nurse_agg[\"nurse_directcare_ctr\"].describe())  # Look for non-zero min/max\n",
    "\n",
    "print(\"Facilities with contract nursing staff:\")\n",
    "print(df_nurse_agg[df_nurse_agg[\"nurse_directcare_ctr\"] > 0].head(10))\n"
   ]
  },
  {
   "cell_type": "code",
   "execution_count": 18,
   "metadata": {},
   "outputs": [
    {
     "ename": "KeyError",
     "evalue": "\"Columns not found: 'overtime_cost', 'agency_fees'\"",
     "output_type": "error",
     "traceback": [
      "\u001b[1;31m---------------------------------------------------------------------------\u001b[0m",
      "\u001b[1;31mKeyError\u001b[0m                                  Traceback (most recent call last)",
      "Cell \u001b[1;32mIn[18], line 7\u001b[0m\n\u001b[0;32m      1\u001b[0m df_combined[\u001b[38;5;124m\"\u001b[39m\u001b[38;5;124mcontract_category\u001b[39m\u001b[38;5;124m\"\u001b[39m] \u001b[38;5;241m=\u001b[39m pd\u001b[38;5;241m.\u001b[39mcut(\n\u001b[0;32m      2\u001b[0m     df_combined[\u001b[38;5;124m\"\u001b[39m\u001b[38;5;124mnursing_ratio\u001b[39m\u001b[38;5;124m\"\u001b[39m], \n\u001b[0;32m      3\u001b[0m     bins\u001b[38;5;241m=\u001b[39m[\u001b[38;5;241m0\u001b[39m, \u001b[38;5;241m0.05\u001b[39m, \u001b[38;5;241m0.15\u001b[39m, \u001b[38;5;241m1\u001b[39m], \n\u001b[0;32m      4\u001b[0m     labels\u001b[38;5;241m=\u001b[39m[\u001b[38;5;124m\"\u001b[39m\u001b[38;5;124mLow\u001b[39m\u001b[38;5;124m\"\u001b[39m, \u001b[38;5;124m\"\u001b[39m\u001b[38;5;124mModerate\u001b[39m\u001b[38;5;124m\"\u001b[39m, \u001b[38;5;124m\"\u001b[39m\u001b[38;5;124mHigh\u001b[39m\u001b[38;5;124m\"\u001b[39m]\n\u001b[0;32m      5\u001b[0m )\n\u001b[1;32m----> 7\u001b[0m cost_summary \u001b[38;5;241m=\u001b[39m \u001b[43mdf_combined\u001b[49m\u001b[38;5;241;43m.\u001b[39;49m\u001b[43mgroupby\u001b[49m\u001b[43m(\u001b[49m\u001b[38;5;124;43m\"\u001b[39;49m\u001b[38;5;124;43mcontract_category\u001b[39;49m\u001b[38;5;124;43m\"\u001b[39;49m\u001b[43m)\u001b[49m\u001b[43m[\u001b[49m\u001b[43m[\u001b[49m\u001b[38;5;124;43m\"\u001b[39;49m\u001b[38;5;124;43movertime_cost\u001b[39;49m\u001b[38;5;124;43m\"\u001b[39;49m\u001b[43m,\u001b[49m\u001b[43m \u001b[49m\u001b[38;5;124;43m\"\u001b[39;49m\u001b[38;5;124;43magency_fees\u001b[39;49m\u001b[38;5;124;43m\"\u001b[39;49m\u001b[43m]\u001b[49m\u001b[43m]\u001b[49m\u001b[38;5;241m.\u001b[39mmean()\n\u001b[0;32m      8\u001b[0m \u001b[38;5;28mprint\u001b[39m(cost_summary)\n",
      "File \u001b[1;32mc:\\Users\\paulo\\OneDrive\\TRABALHO\\Clipboard Health\\clipboard_health\\Lib\\site-packages\\pandas\\core\\groupby\\generic.py:1951\u001b[0m, in \u001b[0;36mDataFrameGroupBy.__getitem__\u001b[1;34m(self, key)\u001b[0m\n\u001b[0;32m   1944\u001b[0m \u001b[38;5;28;01mif\u001b[39;00m \u001b[38;5;28misinstance\u001b[39m(key, \u001b[38;5;28mtuple\u001b[39m) \u001b[38;5;129;01mand\u001b[39;00m \u001b[38;5;28mlen\u001b[39m(key) \u001b[38;5;241m>\u001b[39m \u001b[38;5;241m1\u001b[39m:\n\u001b[0;32m   1945\u001b[0m     \u001b[38;5;66;03m# if len == 1, then it becomes a SeriesGroupBy and this is actually\u001b[39;00m\n\u001b[0;32m   1946\u001b[0m     \u001b[38;5;66;03m# valid syntax, so don't raise\u001b[39;00m\n\u001b[0;32m   1947\u001b[0m     \u001b[38;5;28;01mraise\u001b[39;00m \u001b[38;5;167;01mValueError\u001b[39;00m(\n\u001b[0;32m   1948\u001b[0m         \u001b[38;5;124m\"\u001b[39m\u001b[38;5;124mCannot subset columns with a tuple with more than one element. \u001b[39m\u001b[38;5;124m\"\u001b[39m\n\u001b[0;32m   1949\u001b[0m         \u001b[38;5;124m\"\u001b[39m\u001b[38;5;124mUse a list instead.\u001b[39m\u001b[38;5;124m\"\u001b[39m\n\u001b[0;32m   1950\u001b[0m     )\n\u001b[1;32m-> 1951\u001b[0m \u001b[38;5;28;01mreturn\u001b[39;00m \u001b[38;5;28;43msuper\u001b[39;49m\u001b[43m(\u001b[49m\u001b[43m)\u001b[49m\u001b[38;5;241;43m.\u001b[39;49m\u001b[38;5;21;43m__getitem__\u001b[39;49m\u001b[43m(\u001b[49m\u001b[43mkey\u001b[49m\u001b[43m)\u001b[49m\n",
      "File \u001b[1;32mc:\\Users\\paulo\\OneDrive\\TRABALHO\\Clipboard Health\\clipboard_health\\Lib\\site-packages\\pandas\\core\\base.py:239\u001b[0m, in \u001b[0;36mSelectionMixin.__getitem__\u001b[1;34m(self, key)\u001b[0m\n\u001b[0;32m    237\u001b[0m     \u001b[38;5;28;01mif\u001b[39;00m \u001b[38;5;28mlen\u001b[39m(\u001b[38;5;28mself\u001b[39m\u001b[38;5;241m.\u001b[39mobj\u001b[38;5;241m.\u001b[39mcolumns\u001b[38;5;241m.\u001b[39mintersection(key)) \u001b[38;5;241m!=\u001b[39m \u001b[38;5;28mlen\u001b[39m(\u001b[38;5;28mset\u001b[39m(key)):\n\u001b[0;32m    238\u001b[0m         bad_keys \u001b[38;5;241m=\u001b[39m \u001b[38;5;28mlist\u001b[39m(\u001b[38;5;28mset\u001b[39m(key)\u001b[38;5;241m.\u001b[39mdifference(\u001b[38;5;28mself\u001b[39m\u001b[38;5;241m.\u001b[39mobj\u001b[38;5;241m.\u001b[39mcolumns))\n\u001b[1;32m--> 239\u001b[0m         \u001b[38;5;28;01mraise\u001b[39;00m \u001b[38;5;167;01mKeyError\u001b[39;00m(\u001b[38;5;124mf\u001b[39m\u001b[38;5;124m\"\u001b[39m\u001b[38;5;124mColumns not found: \u001b[39m\u001b[38;5;132;01m{\u001b[39;00m\u001b[38;5;28mstr\u001b[39m(bad_keys)[\u001b[38;5;241m1\u001b[39m:\u001b[38;5;241m-\u001b[39m\u001b[38;5;241m1\u001b[39m]\u001b[38;5;132;01m}\u001b[39;00m\u001b[38;5;124m\"\u001b[39m)\n\u001b[0;32m    240\u001b[0m     \u001b[38;5;28;01mreturn\u001b[39;00m \u001b[38;5;28mself\u001b[39m\u001b[38;5;241m.\u001b[39m_gotitem(\u001b[38;5;28mlist\u001b[39m(key), ndim\u001b[38;5;241m=\u001b[39m\u001b[38;5;241m2\u001b[39m)\n\u001b[0;32m    242\u001b[0m \u001b[38;5;28;01melse\u001b[39;00m:\n",
      "\u001b[1;31mKeyError\u001b[0m: \"Columns not found: 'overtime_cost', 'agency_fees'\""
     ]
    }
   ],
   "source": [
    "df_combined[\"contract_category\"] = pd.cut(\n",
    "    df_combined[\"nursing_ratio\"], \n",
    "    bins=[0, 0.05, 0.15, 1], \n",
    "    labels=[\"Low\", \"Moderate\", \"High\"]\n",
    ")\n",
    "\n",
    "cost_summary = df_combined.groupby(\"contract_category\")[[\"overtime_cost\", \"agency_fees\"]].mean()\n",
    "print(cost_summary)\n"
   ]
  },
  {
   "cell_type": "code",
   "execution_count": 19,
   "metadata": {},
   "outputs": [
    {
     "ename": "KeyError",
     "evalue": "'workdate'",
     "output_type": "error",
     "traceback": [
      "\u001b[1;31m---------------------------------------------------------------------------\u001b[0m",
      "\u001b[1;31mKeyError\u001b[0m                                  Traceback (most recent call last)",
      "Cell \u001b[1;32mIn[19], line 3\u001b[0m\n\u001b[0;32m      1\u001b[0m \u001b[38;5;28;01mimport\u001b[39;00m\u001b[38;5;250m \u001b[39m\u001b[38;5;21;01mmatplotlib\u001b[39;00m\u001b[38;5;21;01m.\u001b[39;00m\u001b[38;5;21;01mpyplot\u001b[39;00m\u001b[38;5;250m \u001b[39m\u001b[38;5;28;01mas\u001b[39;00m\u001b[38;5;250m \u001b[39m\u001b[38;5;21;01mplt\u001b[39;00m\n\u001b[1;32m----> 3\u001b[0m df_time_series \u001b[38;5;241m=\u001b[39m \u001b[43mdf_combined\u001b[49m\u001b[38;5;241;43m.\u001b[39;49m\u001b[43mgroupby\u001b[49m\u001b[43m(\u001b[49m\u001b[38;5;124;43m\"\u001b[39;49m\u001b[38;5;124;43mworkdate\u001b[39;49m\u001b[38;5;124;43m\"\u001b[39;49m\u001b[43m)\u001b[49m[\u001b[38;5;124m\"\u001b[39m\u001b[38;5;124mnursing_ratio\u001b[39m\u001b[38;5;124m\"\u001b[39m]\u001b[38;5;241m.\u001b[39mmean()\n\u001b[0;32m      5\u001b[0m plt\u001b[38;5;241m.\u001b[39mplot(df_time_series\u001b[38;5;241m.\u001b[39mindex, df_time_series\u001b[38;5;241m.\u001b[39mvalues, marker\u001b[38;5;241m=\u001b[39m\u001b[38;5;124m'\u001b[39m\u001b[38;5;124mo\u001b[39m\u001b[38;5;124m'\u001b[39m)\n\u001b[0;32m      6\u001b[0m plt\u001b[38;5;241m.\u001b[39mtitle(\u001b[38;5;124m\"\u001b[39m\u001b[38;5;124mTrend of Nursing Contract Ratios Over Time\u001b[39m\u001b[38;5;124m\"\u001b[39m)\n",
      "File \u001b[1;32mc:\\Users\\paulo\\OneDrive\\TRABALHO\\Clipboard Health\\clipboard_health\\Lib\\site-packages\\pandas\\core\\frame.py:9183\u001b[0m, in \u001b[0;36mDataFrame.groupby\u001b[1;34m(self, by, axis, level, as_index, sort, group_keys, observed, dropna)\u001b[0m\n\u001b[0;32m   9180\u001b[0m \u001b[38;5;28;01mif\u001b[39;00m level \u001b[38;5;129;01mis\u001b[39;00m \u001b[38;5;28;01mNone\u001b[39;00m \u001b[38;5;129;01mand\u001b[39;00m by \u001b[38;5;129;01mis\u001b[39;00m \u001b[38;5;28;01mNone\u001b[39;00m:\n\u001b[0;32m   9181\u001b[0m     \u001b[38;5;28;01mraise\u001b[39;00m \u001b[38;5;167;01mTypeError\u001b[39;00m(\u001b[38;5;124m\"\u001b[39m\u001b[38;5;124mYou have to supply one of \u001b[39m\u001b[38;5;124m'\u001b[39m\u001b[38;5;124mby\u001b[39m\u001b[38;5;124m'\u001b[39m\u001b[38;5;124m and \u001b[39m\u001b[38;5;124m'\u001b[39m\u001b[38;5;124mlevel\u001b[39m\u001b[38;5;124m'\u001b[39m\u001b[38;5;124m\"\u001b[39m)\n\u001b[1;32m-> 9183\u001b[0m \u001b[38;5;28;01mreturn\u001b[39;00m \u001b[43mDataFrameGroupBy\u001b[49m\u001b[43m(\u001b[49m\n\u001b[0;32m   9184\u001b[0m \u001b[43m    \u001b[49m\u001b[43mobj\u001b[49m\u001b[38;5;241;43m=\u001b[39;49m\u001b[38;5;28;43mself\u001b[39;49m\u001b[43m,\u001b[49m\n\u001b[0;32m   9185\u001b[0m \u001b[43m    \u001b[49m\u001b[43mkeys\u001b[49m\u001b[38;5;241;43m=\u001b[39;49m\u001b[43mby\u001b[49m\u001b[43m,\u001b[49m\n\u001b[0;32m   9186\u001b[0m \u001b[43m    \u001b[49m\u001b[43maxis\u001b[49m\u001b[38;5;241;43m=\u001b[39;49m\u001b[43maxis\u001b[49m\u001b[43m,\u001b[49m\n\u001b[0;32m   9187\u001b[0m \u001b[43m    \u001b[49m\u001b[43mlevel\u001b[49m\u001b[38;5;241;43m=\u001b[39;49m\u001b[43mlevel\u001b[49m\u001b[43m,\u001b[49m\n\u001b[0;32m   9188\u001b[0m \u001b[43m    \u001b[49m\u001b[43mas_index\u001b[49m\u001b[38;5;241;43m=\u001b[39;49m\u001b[43mas_index\u001b[49m\u001b[43m,\u001b[49m\n\u001b[0;32m   9189\u001b[0m \u001b[43m    \u001b[49m\u001b[43msort\u001b[49m\u001b[38;5;241;43m=\u001b[39;49m\u001b[43msort\u001b[49m\u001b[43m,\u001b[49m\n\u001b[0;32m   9190\u001b[0m \u001b[43m    \u001b[49m\u001b[43mgroup_keys\u001b[49m\u001b[38;5;241;43m=\u001b[39;49m\u001b[43mgroup_keys\u001b[49m\u001b[43m,\u001b[49m\n\u001b[0;32m   9191\u001b[0m \u001b[43m    \u001b[49m\u001b[43mobserved\u001b[49m\u001b[38;5;241;43m=\u001b[39;49m\u001b[43mobserved\u001b[49m\u001b[43m,\u001b[49m\n\u001b[0;32m   9192\u001b[0m \u001b[43m    \u001b[49m\u001b[43mdropna\u001b[49m\u001b[38;5;241;43m=\u001b[39;49m\u001b[43mdropna\u001b[49m\u001b[43m,\u001b[49m\n\u001b[0;32m   9193\u001b[0m \u001b[43m\u001b[49m\u001b[43m)\u001b[49m\n",
      "File \u001b[1;32mc:\\Users\\paulo\\OneDrive\\TRABALHO\\Clipboard Health\\clipboard_health\\Lib\\site-packages\\pandas\\core\\groupby\\groupby.py:1329\u001b[0m, in \u001b[0;36mGroupBy.__init__\u001b[1;34m(self, obj, keys, axis, level, grouper, exclusions, selection, as_index, sort, group_keys, observed, dropna)\u001b[0m\n\u001b[0;32m   1326\u001b[0m \u001b[38;5;28mself\u001b[39m\u001b[38;5;241m.\u001b[39mdropna \u001b[38;5;241m=\u001b[39m dropna\n\u001b[0;32m   1328\u001b[0m \u001b[38;5;28;01mif\u001b[39;00m grouper \u001b[38;5;129;01mis\u001b[39;00m \u001b[38;5;28;01mNone\u001b[39;00m:\n\u001b[1;32m-> 1329\u001b[0m     grouper, exclusions, obj \u001b[38;5;241m=\u001b[39m \u001b[43mget_grouper\u001b[49m\u001b[43m(\u001b[49m\n\u001b[0;32m   1330\u001b[0m \u001b[43m        \u001b[49m\u001b[43mobj\u001b[49m\u001b[43m,\u001b[49m\n\u001b[0;32m   1331\u001b[0m \u001b[43m        \u001b[49m\u001b[43mkeys\u001b[49m\u001b[43m,\u001b[49m\n\u001b[0;32m   1332\u001b[0m \u001b[43m        \u001b[49m\u001b[43maxis\u001b[49m\u001b[38;5;241;43m=\u001b[39;49m\u001b[43maxis\u001b[49m\u001b[43m,\u001b[49m\n\u001b[0;32m   1333\u001b[0m \u001b[43m        \u001b[49m\u001b[43mlevel\u001b[49m\u001b[38;5;241;43m=\u001b[39;49m\u001b[43mlevel\u001b[49m\u001b[43m,\u001b[49m\n\u001b[0;32m   1334\u001b[0m \u001b[43m        \u001b[49m\u001b[43msort\u001b[49m\u001b[38;5;241;43m=\u001b[39;49m\u001b[43msort\u001b[49m\u001b[43m,\u001b[49m\n\u001b[0;32m   1335\u001b[0m \u001b[43m        \u001b[49m\u001b[43mobserved\u001b[49m\u001b[38;5;241;43m=\u001b[39;49m\u001b[38;5;28;43;01mFalse\u001b[39;49;00m\u001b[43m \u001b[49m\u001b[38;5;28;43;01mif\u001b[39;49;00m\u001b[43m \u001b[49m\u001b[43mobserved\u001b[49m\u001b[43m \u001b[49m\u001b[38;5;129;43;01mis\u001b[39;49;00m\u001b[43m \u001b[49m\u001b[43mlib\u001b[49m\u001b[38;5;241;43m.\u001b[39;49m\u001b[43mno_default\u001b[49m\u001b[43m \u001b[49m\u001b[38;5;28;43;01melse\u001b[39;49;00m\u001b[43m \u001b[49m\u001b[43mobserved\u001b[49m\u001b[43m,\u001b[49m\n\u001b[0;32m   1336\u001b[0m \u001b[43m        \u001b[49m\u001b[43mdropna\u001b[49m\u001b[38;5;241;43m=\u001b[39;49m\u001b[38;5;28;43mself\u001b[39;49m\u001b[38;5;241;43m.\u001b[39;49m\u001b[43mdropna\u001b[49m\u001b[43m,\u001b[49m\n\u001b[0;32m   1337\u001b[0m \u001b[43m    \u001b[49m\u001b[43m)\u001b[49m\n\u001b[0;32m   1339\u001b[0m \u001b[38;5;28;01mif\u001b[39;00m observed \u001b[38;5;129;01mis\u001b[39;00m lib\u001b[38;5;241m.\u001b[39mno_default:\n\u001b[0;32m   1340\u001b[0m     \u001b[38;5;28;01mif\u001b[39;00m \u001b[38;5;28many\u001b[39m(ping\u001b[38;5;241m.\u001b[39m_passed_categorical \u001b[38;5;28;01mfor\u001b[39;00m ping \u001b[38;5;129;01min\u001b[39;00m grouper\u001b[38;5;241m.\u001b[39mgroupings):\n",
      "File \u001b[1;32mc:\\Users\\paulo\\OneDrive\\TRABALHO\\Clipboard Health\\clipboard_health\\Lib\\site-packages\\pandas\\core\\groupby\\grouper.py:1043\u001b[0m, in \u001b[0;36mget_grouper\u001b[1;34m(obj, key, axis, level, sort, observed, validate, dropna)\u001b[0m\n\u001b[0;32m   1041\u001b[0m         in_axis, level, gpr \u001b[38;5;241m=\u001b[39m \u001b[38;5;28;01mFalse\u001b[39;00m, gpr, \u001b[38;5;28;01mNone\u001b[39;00m\n\u001b[0;32m   1042\u001b[0m     \u001b[38;5;28;01melse\u001b[39;00m:\n\u001b[1;32m-> 1043\u001b[0m         \u001b[38;5;28;01mraise\u001b[39;00m \u001b[38;5;167;01mKeyError\u001b[39;00m(gpr)\n\u001b[0;32m   1044\u001b[0m \u001b[38;5;28;01melif\u001b[39;00m \u001b[38;5;28misinstance\u001b[39m(gpr, Grouper) \u001b[38;5;129;01mand\u001b[39;00m gpr\u001b[38;5;241m.\u001b[39mkey \u001b[38;5;129;01mis\u001b[39;00m \u001b[38;5;129;01mnot\u001b[39;00m \u001b[38;5;28;01mNone\u001b[39;00m:\n\u001b[0;32m   1045\u001b[0m     \u001b[38;5;66;03m# Add key to exclusions\u001b[39;00m\n\u001b[0;32m   1046\u001b[0m     exclusions\u001b[38;5;241m.\u001b[39madd(gpr\u001b[38;5;241m.\u001b[39mkey)\n",
      "\u001b[1;31mKeyError\u001b[0m: 'workdate'"
     ]
    }
   ],
   "source": [
    "import matplotlib.pyplot as plt\n",
    "\n",
    "df_time_series = df_combined.groupby(\"workdate\")[\"nursing_ratio\"].mean()\n",
    "\n",
    "plt.plot(df_time_series.index, df_time_series.values, marker='o')\n",
    "plt.title(\"Trend of Nursing Contract Ratios Over Time\")\n",
    "plt.xlabel(\"Date\")\n",
    "plt.ylabel(\"Average Nursing Contract Ratio\")\n",
    "plt.xticks(rotation=45)\n",
    "plt.show()\n"
   ]
  },
  {
   "cell_type": "code",
   "execution_count": 20,
   "metadata": {},
   "outputs": [],
   "source": [
    "# Recalculate with workdate included\n",
    "df_nurse_agg = (\n",
    "    pbj_nurse\n",
    "    .groupby([\"provnum\", \"workdate\"], as_index=False)\n",
    "    .agg({\n",
    "        \"nurse_directcare_emp\": \"sum\",\n",
    "        \"nurse_directcare_ctr\": \"sum\"\n",
    "    })\n",
    ")\n",
    "\n",
    "df_nurse_agg[\"nursing_ratio\"] = (\n",
    "    df_nurse_agg[\"nurse_directcare_ctr\"] /\n",
    "    (df_nurse_agg[\"nurse_directcare_emp\"] + df_nurse_agg[\"nurse_directcare_ctr\"]).replace(0, 1e-6)\n",
    ")\n",
    "\n",
    "df_non_nurse_agg = (\n",
    "    pbj_non_nurse\n",
    "    .groupby([\"provnum\", \"workdate\"], as_index=False)\n",
    "    .agg({\n",
    "        \"non_nurse_emp\": \"sum\",\n",
    "        \"non_nurse_ctr\": \"sum\"\n",
    "    })\n",
    ")\n",
    "\n",
    "df_non_nurse_agg[\"non_nursing_ratio\"] = (\n",
    "    df_non_nurse_agg[\"non_nurse_ctr\"] /\n",
    "    (df_non_nurse_agg[\"non_nurse_emp\"] + df_non_nurse_agg[\"non_nurse_ctr\"]).replace(0, 1e-6)\n",
    ")\n",
    "\n",
    "# Merge both datasets including workdate\n",
    "df_combined = pd.merge(\n",
    "    df_nurse_agg[[\"provnum\", \"workdate\", \"nursing_ratio\"]],\n",
    "    df_non_nurse_agg[[\"provnum\", \"workdate\", \"non_nursing_ratio\"]],\n",
    "    on=[\"provnum\", \"workdate\"],\n",
    "    how=\"outer\"\n",
    ")\n"
   ]
  },
  {
   "cell_type": "code",
   "execution_count": 21,
   "metadata": {},
   "outputs": [
    {
     "data": {
      "image/png": "[encoded data removed]",
      "text/plain": [
       "<Figure size 1000x500 with 1 Axes>"
      ]
     },
     "metadata": {},
     "output_type": "display_data"
    }
   ],
   "source": [
    "import matplotlib.pyplot as plt\n",
    "\n",
    "# Aggregate by date to see trends\n",
    "df_time_series = df_combined.groupby(\"workdate\")[[\"nursing_ratio\", \"non_nursing_ratio\"]].mean()\n",
    "\n",
    "# Plot\n",
    "plt.figure(figsize=(10, 5))\n",
    "plt.plot(df_time_series.index, df_time_series[\"nursing_ratio\"], marker='o', label=\"Nursing Contract Ratio\")\n",
    "plt.plot(df_time_series.index, df_time_series[\"non_nursing_ratio\"], marker='s', label=\"Non-Nursing Contract Ratio\")\n",
    "plt.title(\"Trend of Nursing vs Non-Nursing Contract Ratios Over Time\")\n",
    "plt.xlabel(\"Date\")\n",
    "plt.ylabel(\"Average Contract Ratio\")\n",
    "plt.xticks(rotation=45)\n",
    "plt.legend()\n",
    "plt.show()\n"
   ]
  },
  {
   "cell_type": "code",
   "execution_count": null,
   "metadata": {},
   "outputs": [],
   "source": []
  },
  {
   "cell_type": "code",
   "execution_count": 22,
   "metadata": {},
   "outputs": [],
   "source": [
    "df_combined[\"weekday\"] = df_combined[\"workdate\"].dt.day_name()\n",
    "print(df_combined.groupby(\"weekday\")[[\"nursing_ratio\", \"non_nursing_ratio\"]].mean())\n"
   ]
  },
  {
   "cell_type": "code",
   "execution_count": 23,
   "metadata": {},
   "outputs": [],
   "source": [
    "top_spike_facilities = df_combined[df_combined[\"workdate\"] == \"2024-06-01\"].nlargest(10, \"non_nursing_ratio\")\n",
    "print(top_spike_facilities)\n"
   ]
  }
 ],
 "metadata": {
  "kernelspec": {
   "display_name": "clipboard_health",
   "language": "python",
   "name": "python3"
  },
  "language_info": {
   "codemirror_mode": {
    "name": "ipython",
    "version": 3
   },
   "file_extension": ".py",
   "mimetype": "text/x-python",
   "name": "python",
   "nbconvert_exporter": "python",
   "pygments_lexer": "ipython3",
   "version": "3.13.1"
  }
 },
 "nbformat": 4,
 "nbformat_minor": 2
}
